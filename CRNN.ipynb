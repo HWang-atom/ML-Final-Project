{
  "nbformat": 4,
  "nbformat_minor": 0,
  "metadata": {
    "colab": {
      "name": "CRNN.ipynb",
      "provenance": [],
      "collapsed_sections": [],
      "machine_shape": "hm"
    },
    "kernelspec": {
      "name": "python3",
      "display_name": "Python 3"
    },
    "language_info": {
      "name": "python"
    },
    "accelerator": "GPU"
  },
  "cells": [
    {
      "cell_type": "code",
      "execution_count": null,
      "metadata": {
        "id": "e_X7M-0T8wky"
      },
      "outputs": [],
      "source": [
        "import numpy as np\n",
        "import pandas as pd\n",
        "from keras.preprocessing.image import ImageDataGenerator\n",
        "import os\n",
        "import random \n",
        "import cv2\n",
        "import imutils\n",
        "import random\n",
        "import matplotlib.pyplot as plt\n",
        "import seaborn as sns\n",
        "from sklearn.preprocessing import LabelBinarizer,LabelEncoder\n",
        "from keras.utils import np_utils\n",
        "from keras.models import Sequential\n",
        "from keras import optimizers\n",
        "from sklearn.preprocessing import LabelBinarizer\n",
        "from keras import backend as K\n",
        "from keras.layers import Dense, Activation, Flatten, Dense,MaxPooling2D, Dropout\n",
        "from keras.layers import Conv2D, MaxPooling2D, BatchNormalization"
      ]
    },
    {
      "cell_type": "code",
      "source": [
        "from google.colab import drive\n",
        "drive.mount('/content/drive')"
      ],
      "metadata": {
        "colab": {
          "base_uri": "https://localhost:8080/"
        },
        "id": "G6640APF82LM",
        "outputId": "af396d68-ab37-41c5-e27c-822d46cdae1f"
      },
      "execution_count": null,
      "outputs": [
        {
          "output_type": "stream",
          "name": "stdout",
          "text": [
            "Mounted at /content/drive\n"
          ]
        }
      ]
    },
    {
      "cell_type": "code",
      "source": [
        "pip install opendatasets"
      ],
      "metadata": {
        "id": "fj1bCo8_-ijh",
        "colab": {
          "base_uri": "https://localhost:8080/"
        },
        "outputId": "c70e04db-349c-4b52-d272-33f9432b4281"
      },
      "execution_count": null,
      "outputs": [
        {
          "output_type": "stream",
          "name": "stdout",
          "text": [
            "Looking in indexes: https://pypi.org/simple, https://us-python.pkg.dev/colab-wheels/public/simple/\n",
            "Collecting opendatasets\n",
            "  Downloading opendatasets-0.1.22-py3-none-any.whl (15 kB)\n",
            "Requirement already satisfied: click in /usr/local/lib/python3.7/dist-packages (from opendatasets) (7.1.2)\n",
            "Requirement already satisfied: kaggle in /usr/local/lib/python3.7/dist-packages (from opendatasets) (1.5.12)\n",
            "Requirement already satisfied: tqdm in /usr/local/lib/python3.7/dist-packages (from opendatasets) (4.64.0)\n",
            "Requirement already satisfied: urllib3 in /usr/local/lib/python3.7/dist-packages (from kaggle->opendatasets) (1.24.3)\n",
            "Requirement already satisfied: six>=1.10 in /usr/local/lib/python3.7/dist-packages (from kaggle->opendatasets) (1.15.0)\n",
            "Requirement already satisfied: python-dateutil in /usr/local/lib/python3.7/dist-packages (from kaggle->opendatasets) (2.8.2)\n",
            "Requirement already satisfied: python-slugify in /usr/local/lib/python3.7/dist-packages (from kaggle->opendatasets) (6.1.2)\n",
            "Requirement already satisfied: certifi in /usr/local/lib/python3.7/dist-packages (from kaggle->opendatasets) (2022.5.18.1)\n",
            "Requirement already satisfied: requests in /usr/local/lib/python3.7/dist-packages (from kaggle->opendatasets) (2.23.0)\n",
            "Requirement already satisfied: text-unidecode>=1.3 in /usr/local/lib/python3.7/dist-packages (from python-slugify->kaggle->opendatasets) (1.3)\n",
            "Requirement already satisfied: idna<3,>=2.5 in /usr/local/lib/python3.7/dist-packages (from requests->kaggle->opendatasets) (2.10)\n",
            "Requirement already satisfied: chardet<4,>=3.0.2 in /usr/local/lib/python3.7/dist-packages (from requests->kaggle->opendatasets) (3.0.4)\n",
            "Installing collected packages: opendatasets\n",
            "Successfully installed opendatasets-0.1.22\n"
          ]
        }
      ]
    },
    {
      "cell_type": "code",
      "source": [
        "import opendatasets as od"
      ],
      "metadata": {
        "id": "OJxju9RB-itq"
      },
      "execution_count": null,
      "outputs": []
    },
    {
      "cell_type": "code",
      "source": [
        "od.download(\"https://www.kaggle.com/datasets/landlord/handwriting-recognition/download\")"
      ],
      "metadata": {
        "colab": {
          "base_uri": "https://localhost:8080/"
        },
        "id": "y0EUy-E__bbE",
        "outputId": "d22e3a2a-5069-4ada-8921-0c8bab3318ad"
      },
      "execution_count": null,
      "outputs": [
        {
          "output_type": "stream",
          "name": "stdout",
          "text": [
            "Please provide your Kaggle credentials to download this dataset. Learn more: http://bit.ly/kaggle-creds\n",
            "Your Kaggle username: xuetingggg\n",
            "Your Kaggle Key: ··········\n",
            "Downloading handwriting-recognition.zip to ./handwriting-recognition\n"
          ]
        },
        {
          "output_type": "stream",
          "name": "stderr",
          "text": [
            "100%|██████████| 1.26G/1.26G [00:08<00:00, 153MB/s]\n"
          ]
        },
        {
          "output_type": "stream",
          "name": "stdout",
          "text": [
            "\n"
          ]
        }
      ]
    },
    {
      "cell_type": "code",
      "source": [
        "train = pd.read_csv('/content/drive/MyDrive/ML/train.csv')\n",
        "valid = pd.read_csv('/content/drive/MyDrive/ML/valid.csv')"
      ],
      "metadata": {
        "id": "eTffRn7O9twj"
      },
      "execution_count": null,
      "outputs": []
    },
    {
      "cell_type": "code",
      "source": [
        "from tensorflow.keras.preprocessing.text import Tokenizer\n",
        "from tensorflow.keras.preprocessing.sequence import pad_sequences\n",
        "\n",
        "max_length = max([len(label) for label in train['IDENTITY'].values])\n",
        "characters = set(char for label in train['IDENTITY'].values for char in label)"
      ],
      "metadata": {
        "id": "-kK2HaTM9-Dk"
      },
      "execution_count": null,
      "outputs": []
    },
    {
      "cell_type": "code",
      "source": [
        "tok = Tokenizer(num_words = len(characters), char_level = True)\n",
        "tok.fit_on_texts(train['IDENTITY'].values)\n",
        "tok.word_index"
      ],
      "metadata": {
        "colab": {
          "base_uri": "https://localhost:8080/"
        },
        "id": "GUhfEOZw-Aqf",
        "outputId": "17f1868f-41f1-4e96-cf02-d35cfc6efae2"
      },
      "execution_count": null,
      "outputs": [
        {
          "output_type": "execute_result",
          "data": {
            "text/plain": [
              "{'a': 1,\n",
              " 'b': 19,\n",
              " 'c': 13,\n",
              " 'd': 18,\n",
              " 'e': 2,\n",
              " 'g': 16,\n",
              " 'h': 9,\n",
              " 'i': 6,\n",
              " 'l': 3,\n",
              " 'm': 5,\n",
              " 'n': 4,\n",
              " 'o': 8,\n",
              " 'p': 15,\n",
              " 'q': 20,\n",
              " 'r': 11,\n",
              " 's': 10,\n",
              " 't': 7,\n",
              " 'u': 12,\n",
              " 'x': 14,\n",
              " 'z': 17}"
            ]
          },
          "metadata": {},
          "execution_count": 83
        }
      ]
    },
    {
      "cell_type": "code",
      "source": [
        "train.head()"
      ],
      "metadata": {
        "colab": {
          "base_uri": "https://localhost:8080/",
          "height": 204
        },
        "id": "PsjICiV2AbEU",
        "outputId": "07052c08-fd7e-4372-cab8-f1179f546e85"
      },
      "execution_count": null,
      "outputs": [
        {
          "output_type": "execute_result",
          "data": {
            "text/plain": [
              "          FILENAME IDENTITY\n",
              "0  TRAIN_00006.jpg    lucie\n",
              "1  TRAIN_00011.jpg     emma\n",
              "2  TRAIN_00020.jpg   romain\n",
              "3  TRAIN_00027.jpg   thomas\n",
              "4  TRAIN_00069.jpg     ines"
            ],
            "text/html": [
              "\n",
              "  <div id=\"df-14f7e946-d46b-4b62-b8ee-7431692424cc\">\n",
              "    <div class=\"colab-df-container\">\n",
              "      <div>\n",
              "<style scoped>\n",
              "    .dataframe tbody tr th:only-of-type {\n",
              "        vertical-align: middle;\n",
              "    }\n",
              "\n",
              "    .dataframe tbody tr th {\n",
              "        vertical-align: top;\n",
              "    }\n",
              "\n",
              "    .dataframe thead th {\n",
              "        text-align: right;\n",
              "    }\n",
              "</style>\n",
              "<table border=\"1\" class=\"dataframe\">\n",
              "  <thead>\n",
              "    <tr style=\"text-align: right;\">\n",
              "      <th></th>\n",
              "      <th>FILENAME</th>\n",
              "      <th>IDENTITY</th>\n",
              "    </tr>\n",
              "  </thead>\n",
              "  <tbody>\n",
              "    <tr>\n",
              "      <th>0</th>\n",
              "      <td>TRAIN_00006.jpg</td>\n",
              "      <td>lucie</td>\n",
              "    </tr>\n",
              "    <tr>\n",
              "      <th>1</th>\n",
              "      <td>TRAIN_00011.jpg</td>\n",
              "      <td>emma</td>\n",
              "    </tr>\n",
              "    <tr>\n",
              "      <th>2</th>\n",
              "      <td>TRAIN_00020.jpg</td>\n",
              "      <td>romain</td>\n",
              "    </tr>\n",
              "    <tr>\n",
              "      <th>3</th>\n",
              "      <td>TRAIN_00027.jpg</td>\n",
              "      <td>thomas</td>\n",
              "    </tr>\n",
              "    <tr>\n",
              "      <th>4</th>\n",
              "      <td>TRAIN_00069.jpg</td>\n",
              "      <td>ines</td>\n",
              "    </tr>\n",
              "  </tbody>\n",
              "</table>\n",
              "</div>\n",
              "      <button class=\"colab-df-convert\" onclick=\"convertToInteractive('df-14f7e946-d46b-4b62-b8ee-7431692424cc')\"\n",
              "              title=\"Convert this dataframe to an interactive table.\"\n",
              "              style=\"display:none;\">\n",
              "        \n",
              "  <svg xmlns=\"http://www.w3.org/2000/svg\" height=\"24px\"viewBox=\"0 0 24 24\"\n",
              "       width=\"24px\">\n",
              "    <path d=\"M0 0h24v24H0V0z\" fill=\"none\"/>\n",
              "    <path d=\"M18.56 5.44l.94 2.06.94-2.06 2.06-.94-2.06-.94-.94-2.06-.94 2.06-2.06.94zm-11 1L8.5 8.5l.94-2.06 2.06-.94-2.06-.94L8.5 2.5l-.94 2.06-2.06.94zm10 10l.94 2.06.94-2.06 2.06-.94-2.06-.94-.94-2.06-.94 2.06-2.06.94z\"/><path d=\"M17.41 7.96l-1.37-1.37c-.4-.4-.92-.59-1.43-.59-.52 0-1.04.2-1.43.59L10.3 9.45l-7.72 7.72c-.78.78-.78 2.05 0 2.83L4 21.41c.39.39.9.59 1.41.59.51 0 1.02-.2 1.41-.59l7.78-7.78 2.81-2.81c.8-.78.8-2.07 0-2.86zM5.41 20L4 18.59l7.72-7.72 1.47 1.35L5.41 20z\"/>\n",
              "  </svg>\n",
              "      </button>\n",
              "      \n",
              "  <style>\n",
              "    .colab-df-container {\n",
              "      display:flex;\n",
              "      flex-wrap:wrap;\n",
              "      gap: 12px;\n",
              "    }\n",
              "\n",
              "    .colab-df-convert {\n",
              "      background-color: #E8F0FE;\n",
              "      border: none;\n",
              "      border-radius: 50%;\n",
              "      cursor: pointer;\n",
              "      display: none;\n",
              "      fill: #1967D2;\n",
              "      height: 32px;\n",
              "      padding: 0 0 0 0;\n",
              "      width: 32px;\n",
              "    }\n",
              "\n",
              "    .colab-df-convert:hover {\n",
              "      background-color: #E2EBFA;\n",
              "      box-shadow: 0px 1px 2px rgba(60, 64, 67, 0.3), 0px 1px 3px 1px rgba(60, 64, 67, 0.15);\n",
              "      fill: #174EA6;\n",
              "    }\n",
              "\n",
              "    [theme=dark] .colab-df-convert {\n",
              "      background-color: #3B4455;\n",
              "      fill: #D2E3FC;\n",
              "    }\n",
              "\n",
              "    [theme=dark] .colab-df-convert:hover {\n",
              "      background-color: #434B5C;\n",
              "      box-shadow: 0px 1px 3px 1px rgba(0, 0, 0, 0.15);\n",
              "      filter: drop-shadow(0px 1px 2px rgba(0, 0, 0, 0.3));\n",
              "      fill: #FFFFFF;\n",
              "    }\n",
              "  </style>\n",
              "\n",
              "      <script>\n",
              "        const buttonEl =\n",
              "          document.querySelector('#df-14f7e946-d46b-4b62-b8ee-7431692424cc button.colab-df-convert');\n",
              "        buttonEl.style.display =\n",
              "          google.colab.kernel.accessAllowed ? 'block' : 'none';\n",
              "\n",
              "        async function convertToInteractive(key) {\n",
              "          const element = document.querySelector('#df-14f7e946-d46b-4b62-b8ee-7431692424cc');\n",
              "          const dataTable =\n",
              "            await google.colab.kernel.invokeFunction('convertToInteractive',\n",
              "                                                     [key], {});\n",
              "          if (!dataTable) return;\n",
              "\n",
              "          const docLinkHtml = 'Like what you see? Visit the ' +\n",
              "            '<a target=\"_blank\" href=https://colab.research.google.com/notebooks/data_table.ipynb>data table notebook</a>'\n",
              "            + ' to learn more about interactive tables.';\n",
              "          element.innerHTML = '';\n",
              "          dataTable['output_type'] = 'display_data';\n",
              "          await google.colab.output.renderOutput(dataTable, element);\n",
              "          const docLink = document.createElement('div');\n",
              "          docLink.innerHTML = docLinkHtml;\n",
              "          element.appendChild(docLink);\n",
              "        }\n",
              "      </script>\n",
              "    </div>\n",
              "  </div>\n",
              "  "
            ]
          },
          "metadata": {},
          "execution_count": 84
        }
      ]
    },
    {
      "cell_type": "code",
      "source": [
        "def preprocess(image_path, label, index, data):\n",
        "    \n",
        "    img_dir = image_path + data.loc[index, 'FILENAME']\n",
        "    img = cv2.imread(img_dir, cv2.IMREAD_GRAYSCALE)\n",
        "        \n",
        "    img = cv2.resize(img,(200, 50), interpolation = cv2.INTER_AREA) # resize image to a height of 200 and width of 50\n",
        "    img = cv2.rotate(img, cv2.ROTATE_90_CLOCKWISE) / 255 # rotate image\n",
        "    \n",
        "    label_sequence = tok.texts_to_sequences([label]) # tokenize the names\n",
        "    pad = pad_sequences(label_sequence, maxlen = max_length, padding = 'post')[0]\n",
        "    \n",
        "    return img,pad"
      ],
      "metadata": {
        "id": "u0mJvVLu-Atk"
      },
      "execution_count": null,
      "outputs": []
    },
    {
      "cell_type": "code",
      "source": [
        "img, label = preprocess('/content/handwriting-recognition/train_v2/train/', 'lucie', 0, train)"
      ],
      "metadata": {
        "id": "AaBY0uLL-Awi"
      },
      "execution_count": null,
      "outputs": []
    },
    {
      "cell_type": "code",
      "source": [
        "label"
      ],
      "metadata": {
        "colab": {
          "base_uri": "https://localhost:8080/"
        },
        "id": "Rxn__NDT-A0D",
        "outputId": "fbce2adf-fc60-4744-90ac-3a0aea6e136d"
      },
      "execution_count": null,
      "outputs": [
        {
          "output_type": "execute_result",
          "data": {
            "text/plain": [
              "array([ 3, 12, 13,  6,  2,  0,  0,  0,  0], dtype=int32)"
            ]
          },
          "metadata": {},
          "execution_count": 87
        }
      ]
    },
    {
      "cell_type": "code",
      "source": [
        "X_train = []\n",
        "Y_train = []\n",
        "train_label_len = []\n",
        "\n",
        "for i in range(len(train)):\n",
        "    \n",
        "    path = '/content/handwriting-recognition/train_v2/train/'\n",
        "    label = train.loc[i, 'IDENTITY']\n",
        "    train_label_len.append(len(label))\n",
        "    img, y = preprocess(path, label, i, train)\n",
        "    img = np.expand_dims(img, axis = 2)\n",
        "    X_train.append(img)\n",
        "    Y_train.append(y)\n",
        "    \n",
        "X_train = np.array(X_train)\n",
        "Y_train = np.array(Y_train)\n",
        "train_label_len = np.array(train_label_len)"
      ],
      "metadata": {
        "id": "Tmke6btx-A3w"
      },
      "execution_count": null,
      "outputs": []
    },
    {
      "cell_type": "code",
      "source": [
        "X_valid = []\n",
        "Y_valid = []\n",
        "valid_label_len = []\n",
        "\n",
        "for i in range(len(valid)):\n",
        "    \n",
        "    path = '/content/handwriting-recognition/validation_v2/validation/'\n",
        "    label = valid.loc[i, 'IDENTITY']\n",
        "    valid_label_len.append(len(label))\n",
        "    img, y = preprocess(path, label, i, valid)\n",
        "    img = np.expand_dims(img, axis = 2)\n",
        "    X_valid.append(img)\n",
        "    Y_valid.append(y)\n",
        "    \n",
        "X_valid = np.array(X_valid)\n",
        "Y_valid = np.array(Y_valid)\n",
        "valid_label_len = np.array(valid_label_len)"
      ],
      "metadata": {
        "id": "T8Zv7ocj-A7b"
      },
      "execution_count": null,
      "outputs": []
    },
    {
      "cell_type": "code",
      "source": [
        "print(X_train.shape, Y_train.shape, X_valid.shape, Y_valid.shape)"
      ],
      "metadata": {
        "colab": {
          "base_uri": "https://localhost:8080/"
        },
        "id": "lxrsIzK4-A_C",
        "outputId": "7853027b-5022-4d5e-8236-84acd030fb8c"
      },
      "execution_count": null,
      "outputs": [
        {
          "output_type": "stream",
          "name": "stdout",
          "text": [
            "(34306, 200, 50, 1) (34306, 9) (4335, 200, 50, 1) (4335, 9)\n"
          ]
        }
      ]
    },
    {
      "cell_type": "code",
      "source": [
        "train_input_len = np.ones([len(train), 1]) * 48\n",
        "valid_input_len = np.ones([len(valid), 1]) * 48"
      ],
      "metadata": {
        "id": "Sb-oimK9-BD1"
      },
      "execution_count": null,
      "outputs": []
    },
    {
      "cell_type": "code",
      "source": [
        "from keras import backend as K\n",
        "from tensorflow.keras import layers\n",
        "from tensorflow import keras\n",
        "\n",
        "def ctc_loss(args):\n",
        "    labels, y_pred, input_length, label_length = args\n",
        "    return K.ctc_batch_cost(labels, y_pred, input_length, label_length)"
      ],
      "metadata": {
        "id": "Arbc2RDq-BNu"
      },
      "execution_count": null,
      "outputs": []
    },
    {
      "cell_type": "code",
      "source": [
        "input_img = layers.Input(shape=(200, 50, 1), name=\"image\")\n",
        "labels = layers.Input(name=\"label\", shape=(max_length,))\n",
        "input_length = layers.Input(name='input_length', shape=(1,))\n",
        "label_length = layers.Input(name='label_length', shape=(1,))\n",
        "\n",
        "x = layers.Conv2D(32,(3, 3),activation=\"relu\",kernel_initializer=\"he_normal\",padding=\"same\",name=\"Conv1\",)(input_img)\n",
        "x = layers.MaxPooling2D((2, 2), name=\"pool1\")(x)\n",
        "\n",
        "\n",
        "x = layers.Conv2D(64,(3, 3),activation=\"relu\",kernel_initializer=\"he_normal\",padding=\"same\",name=\"Conv2\",)(x)\n",
        "x = layers.MaxPooling2D((2, 2), name=\"pool2\")(x)\n",
        "\n",
        "x = layers.Reshape(target_shape=(50,768), name=\"reshape\")(x)\n",
        "x = layers.Dense(64, activation=\"relu\", name=\"dense1\")(x)\n",
        "x = layers.Dropout(0.2)(x)\n",
        "\n",
        "\n",
        "x = layers.Bidirectional(layers.LSTM(256, return_sequences=True, dropout=0.25))(x)\n",
        "x = layers.Bidirectional(layers.LSTM(256, return_sequences=True, dropout=0.25))(x)\n",
        "\n",
        "# Output layer\n",
        "y_pred = layers.Dense(len(characters) + 1, activation=\"softmax\", name=\"output\")(x)\n",
        "\n",
        "\n",
        "loss_out = layers.Lambda(ctc_loss, output_shape=(1,), name='ctc')([labels, y_pred, input_length, label_length])\n",
        "\n",
        "\n",
        "# Define the model\n",
        "model = keras.models.Model(inputs=[input_img, labels, input_length, label_length], \n",
        "                           outputs=loss_out,\n",
        "                           name=\"CRNN_model\")"
      ],
      "metadata": {
        "id": "vk1im1aUBOcx"
      },
      "execution_count": null,
      "outputs": []
    },
    {
      "cell_type": "code",
      "source": [
        ""
      ],
      "metadata": {
        "id": "de008UKDAdtA"
      },
      "execution_count": null,
      "outputs": []
    },
    {
      "cell_type": "code",
      "source": [
        "opt = keras.optimizers.Adam()\n",
        "\n",
        "model.compile(loss={'ctc': lambda y_true, y_pred: y_pred}, optimizer=opt, metrics=['accuracy'])\n",
        "model.summary()"
      ],
      "metadata": {
        "colab": {
          "base_uri": "https://localhost:8080/"
        },
        "id": "pYicSr8EBOfv",
        "outputId": "d0cc52f6-7cda-40a1-b9cb-430c09d0db47"
      },
      "execution_count": null,
      "outputs": [
        {
          "output_type": "stream",
          "name": "stdout",
          "text": [
            "Model: \"CRNN_model\"\n",
            "__________________________________________________________________________________________________\n",
            " Layer (type)                   Output Shape         Param #     Connected to                     \n",
            "==================================================================================================\n",
            " image (InputLayer)             [(None, 200, 50, 1)  0           []                               \n",
            "                                ]                                                                 \n",
            "                                                                                                  \n",
            " Conv1 (Conv2D)                 (None, 200, 50, 32)  320         ['image[0][0]']                  \n",
            "                                                                                                  \n",
            " pool1 (MaxPooling2D)           (None, 100, 25, 32)  0           ['Conv1[0][0]']                  \n",
            "                                                                                                  \n",
            " Conv2 (Conv2D)                 (None, 100, 25, 64)  18496       ['pool1[0][0]']                  \n",
            "                                                                                                  \n",
            " pool2 (MaxPooling2D)           (None, 50, 12, 64)   0           ['Conv2[0][0]']                  \n",
            "                                                                                                  \n",
            " reshape (Reshape)              (None, 50, 768)      0           ['pool2[0][0]']                  \n",
            "                                                                                                  \n",
            " dense1 (Dense)                 (None, 50, 64)       49216       ['reshape[0][0]']                \n",
            "                                                                                                  \n",
            " dropout_6 (Dropout)            (None, 50, 64)       0           ['dense1[0][0]']                 \n",
            "                                                                                                  \n",
            " bidirectional_12 (Bidirectiona  (None, 50, 512)     657408      ['dropout_6[0][0]']              \n",
            " l)                                                                                               \n",
            "                                                                                                  \n",
            " bidirectional_13 (Bidirectiona  (None, 50, 512)     1574912     ['bidirectional_12[0][0]']       \n",
            " l)                                                                                               \n",
            "                                                                                                  \n",
            " label (InputLayer)             [(None, 9)]          0           []                               \n",
            "                                                                                                  \n",
            " output (Dense)                 (None, 50, 21)       10773       ['bidirectional_13[0][0]']       \n",
            "                                                                                                  \n",
            " input_length (InputLayer)      [(None, 1)]          0           []                               \n",
            "                                                                                                  \n",
            " label_length (InputLayer)      [(None, 1)]          0           []                               \n",
            "                                                                                                  \n",
            " ctc (Lambda)                   (None, 1)            0           ['label[0][0]',                  \n",
            "                                                                  'output[0][0]',                 \n",
            "                                                                  'input_length[0][0]',           \n",
            "                                                                  'label_length[0][0]']           \n",
            "                                                                                                  \n",
            "==================================================================================================\n",
            "Total params: 2,311,125\n",
            "Trainable params: 2,311,125\n",
            "Non-trainable params: 0\n",
            "__________________________________________________________________________________________________\n"
          ]
        }
      ]
    },
    {
      "cell_type": "code",
      "source": [
        "epochs = 20\n",
        "\n",
        "# Train the model\n",
        "history = model.fit(\n",
        "    x = (X_train, Y_train, train_input_len, train_label_len),\n",
        "    y = np.zeros([len(train)]),\n",
        "    validation_data = ([X_valid, Y_valid, valid_input_len, valid_label_len], np.zeros([len(valid)])),\n",
        "    epochs=epochs,\n",
        "    batch_size = 30\n",
        ")"
      ],
      "metadata": {
        "colab": {
          "base_uri": "https://localhost:8080/"
        },
        "id": "M2Kp9MfxBOjM",
        "outputId": "ba335214-cf3f-4ea1-8952-d9a17c9f3941"
      },
      "execution_count": null,
      "outputs": [
        {
          "output_type": "stream",
          "name": "stdout",
          "text": [
            "Epoch 1/20\n",
            "1144/1144 [==============================] - 49s 37ms/step - loss: 13.5916 - accuracy: 0.0000e+00 - val_loss: 12.0184 - val_accuracy: 0.0000e+00\n",
            "Epoch 2/20\n",
            "1144/1144 [==============================] - 41s 36ms/step - loss: 7.5606 - accuracy: 0.0119 - val_loss: 3.9034 - val_accuracy: 0.0927\n",
            "Epoch 3/20\n",
            "1144/1144 [==============================] - 41s 36ms/step - loss: 2.6016 - accuracy: 0.3145 - val_loss: 1.1959 - val_accuracy: 0.6973\n",
            "Epoch 4/20\n",
            "1144/1144 [==============================] - 42s 37ms/step - loss: 1.1781 - accuracy: 0.7157 - val_loss: 0.7823 - val_accuracy: 0.8404\n",
            "Epoch 5/20\n",
            "1144/1144 [==============================] - 41s 36ms/step - loss: 0.8185 - accuracy: 0.8240 - val_loss: 0.5708 - val_accuracy: 0.8997\n",
            "Epoch 6/20\n",
            "1144/1144 [==============================] - 42s 36ms/step - loss: 0.7015 - accuracy: 0.8575 - val_loss: 0.4874 - val_accuracy: 0.9181\n",
            "Epoch 7/20\n",
            "1144/1144 [==============================] - 41s 36ms/step - loss: 0.5514 - accuracy: 0.8898 - val_loss: 0.4526 - val_accuracy: 0.9398\n",
            "Epoch 8/20\n",
            "1144/1144 [==============================] - 41s 36ms/step - loss: 0.5158 - accuracy: 0.8989 - val_loss: 0.4149 - val_accuracy: 0.9303\n",
            "Epoch 9/20\n",
            "1144/1144 [==============================] - 41s 36ms/step - loss: 0.4247 - accuracy: 0.9166 - val_loss: 0.3982 - val_accuracy: 0.9423\n",
            "Epoch 10/20\n",
            "1144/1144 [==============================] - 41s 36ms/step - loss: 0.4009 - accuracy: 0.9208 - val_loss: 0.3427 - val_accuracy: 0.9532\n",
            "Epoch 11/20\n",
            "1144/1144 [==============================] - 41s 36ms/step - loss: 0.3542 - accuracy: 0.9317 - val_loss: 0.3123 - val_accuracy: 0.9516\n",
            "Epoch 12/20\n",
            "1144/1144 [==============================] - 42s 36ms/step - loss: 0.3279 - accuracy: 0.9366 - val_loss: 0.4486 - val_accuracy: 0.9389\n",
            "Epoch 13/20\n",
            "1144/1144 [==============================] - 41s 36ms/step - loss: 0.3235 - accuracy: 0.9373 - val_loss: 0.3284 - val_accuracy: 0.9569\n",
            "Epoch 14/20\n",
            "1144/1144 [==============================] - 41s 36ms/step - loss: 0.2806 - accuracy: 0.9455 - val_loss: 0.2890 - val_accuracy: 0.9654\n",
            "Epoch 15/20\n",
            "1144/1144 [==============================] - 41s 36ms/step - loss: 0.2381 - accuracy: 0.9539 - val_loss: 0.3321 - val_accuracy: 0.9647\n",
            "Epoch 16/20\n",
            "1144/1144 [==============================] - 42s 36ms/step - loss: 0.2468 - accuracy: 0.9539 - val_loss: 0.3314 - val_accuracy: 0.9557\n",
            "Epoch 17/20\n",
            "1144/1144 [==============================] - 41s 36ms/step - loss: 0.2262 - accuracy: 0.9565 - val_loss: 0.3427 - val_accuracy: 0.9640\n",
            "Epoch 18/20\n",
            "1144/1144 [==============================] - 41s 36ms/step - loss: 0.2245 - accuracy: 0.9558 - val_loss: 0.2718 - val_accuracy: 0.9682\n",
            "Epoch 19/20\n",
            "1144/1144 [==============================] - 42s 36ms/step - loss: 0.2018 - accuracy: 0.9604 - val_loss: 0.3942 - val_accuracy: 0.9502\n",
            "Epoch 20/20\n",
            "1144/1144 [==============================] - 41s 36ms/step - loss: 0.1905 - accuracy: 0.9626 - val_loss: 0.2709 - val_accuracy: 0.9686\n"
          ]
        }
      ]
    },
    {
      "cell_type": "code",
      "source": [
        "plt.plot(history.history['accuracy'])\n",
        "plt.plot(history.history['val_accuracy'])\n",
        "plt.title('Training Accuracy vs Validation Accuracy')\n",
        "plt.ylabel('Accuracy')\n",
        "plt.xlabel('Epoch')\n",
        "plt.legend(['Train', 'Validation'], loc='upper left')\n",
        "plt.show()"
      ],
      "metadata": {
        "colab": {
          "base_uri": "https://localhost:8080/",
          "height": 295
        },
        "id": "CWyY1WJSTLi0",
        "outputId": "2f1bebbb-62c5-460c-94ab-bd00641c7ebc"
      },
      "execution_count": null,
      "outputs": [
        {
          "output_type": "display_data",
          "data": {
            "text/plain": [
              "<Figure size 432x288 with 1 Axes>"
            ],
            "image/png": "[encoded data removed]"
          },
          "metadata": {
            "needs_background": "light"
          }
        }
      ]
    },
    {
      "cell_type": "code",
      "source": [
        "plt.plot(history.history['loss'])\n",
        "plt.plot(history.history['val_loss'])\n",
        "plt.title('Training Loss vs Validation Loss')\n",
        "plt.ylabel('Loss')\n",
        "plt.xlabel('Epoch')\n",
        "plt.legend(['Train', 'Validation'], loc='upper left')\n",
        "plt.show()"
      ],
      "metadata": {
        "colab": {
          "base_uri": "https://localhost:8080/",
          "height": 295
        },
        "id": "C3oFsez8Esr5",
        "outputId": "9fa88b4c-6310-42e1-c418-cc866bb4e1eb"
      },
      "execution_count": null,
      "outputs": [
        {
          "output_type": "display_data",
          "data": {
            "text/plain": [
              "<Figure size 432x288 with 1 Axes>"
            ],
            "image/png": "[encoded data removed]"
          },
          "metadata": {
            "needs_background": "light"
          }
        }
      ]
    },
    {
      "cell_type": "code",
      "source": [
        "prediction_model = keras.models.Model(\n",
        "    model.get_layer(name=\"image\").input, model.get_layer(name=\"output\").output\n",
        ")\n",
        "prediction_model.summary()"
      ],
      "metadata": {
        "id": "nRMhyYrGBOxt",
        "colab": {
          "base_uri": "https://localhost:8080/"
        },
        "outputId": "76e8d934-03ca-43d0-fa6a-f6e8eb380044"
      },
      "execution_count": null,
      "outputs": [
        {
          "output_type": "stream",
          "name": "stdout",
          "text": [
            "Model: \"model\"\n",
            "_________________________________________________________________\n",
            " Layer (type)                Output Shape              Param #   \n",
            "=================================================================\n",
            " image (InputLayer)          [(None, 200, 50, 1)]      0         \n",
            "                                                                 \n",
            " Conv1 (Conv2D)              (None, 200, 50, 32)       320       \n",
            "                                                                 \n",
            " pool1 (MaxPooling2D)        (None, 100, 25, 32)       0         \n",
            "                                                                 \n",
            " Conv2 (Conv2D)              (None, 100, 25, 64)       18496     \n",
            "                                                                 \n",
            " pool2 (MaxPooling2D)        (None, 50, 12, 64)        0         \n",
            "                                                                 \n",
            " reshape (Reshape)           (None, 50, 768)           0         \n",
            "                                                                 \n",
            " dense1 (Dense)              (None, 50, 64)            49216     \n",
            "                                                                 \n",
            " dropout_4 (Dropout)         (None, 50, 64)            0         \n",
            "                                                                 \n",
            " bidirectional_8 (Bidirectio  (None, 50, 512)          657408    \n",
            " nal)                                                            \n",
            "                                                                 \n",
            " bidirectional_9 (Bidirectio  (None, 50, 512)          1574912   \n",
            " nal)                                                            \n",
            "                                                                 \n",
            " output (Dense)              (None, 50, 21)            10773     \n",
            "                                                                 \n",
            "=================================================================\n",
            "Total params: 2,311,125\n",
            "Trainable params: 2,311,125\n",
            "Non-trainable params: 0\n",
            "_________________________________________________________________\n"
          ]
        }
      ]
    },
    {
      "cell_type": "code",
      "source": [
        ""
      ],
      "metadata": {
        "id": "3atXQhnrEriF"
      },
      "execution_count": null,
      "outputs": []
    },
    {
      "cell_type": "code",
      "source": [
        "def decode_predictions(pred):\n",
        "    input_len = np.ones(pred.shape[0]) * pred.shape[1]\n",
        "    results = keras.backend.ctc_decode(pred, input_length=input_len, greedy=True)[0][0][\n",
        "        :, :max_length\n",
        "    ]\n",
        "    output_text = []\n",
        "    for res in results:\n",
        "        decoded = tok.sequences_to_texts([res.numpy()])\n",
        "        output_text.append(decoded)\n",
        "    return output_text"
      ],
      "metadata": {
        "id": "ay9JvvoNBO2u"
      },
      "execution_count": null,
      "outputs": []
    },
    {
      "cell_type": "code",
      "source": [
        "preds = prediction_model.predict(X_valid)\n",
        "pred_texts = decode_predictions(preds)"
      ],
      "metadata": {
        "id": "kZwJpsjXBO9k"
      },
      "execution_count": null,
      "outputs": []
    },
    {
      "cell_type": "code",
      "source": [
        "_, ax = plt.subplots(4, 4, figsize=(15, 5))\n",
        "for i in range(16):\n",
        "    img = X_valid[i]\n",
        "    img = cv2.rotate(img, cv2.ROTATE_90_COUNTERCLOCKWISE)\n",
        "    title = f\"Prediction: {pred_texts[i][0]}\"\n",
        "    ax[i // 4, i % 4].imshow(img, cmap=\"gray\")\n",
        "    ax[i // 4, i % 4].set_title(title)\n",
        "    ax[i // 4, i % 4].axis(\"off\")\n",
        "plt.show()"
      ],
      "metadata": {
        "id": "8sDNpiHqBPCA",
        "colab": {
          "base_uri": "https://localhost:8080/",
          "height": 305
        },
        "outputId": "72723e1c-2237-4179-dfbd-50c06a7590ee"
      },
      "execution_count": null,
      "outputs": [
        {
          "output_type": "display_data",
          "data": {
            "text/plain": [
              "<Figure size 1080x360 with 16 Axes>"
            ],
            "image/png": "[encoded data removed]"
          },
          "metadata": {
            "needs_background": "light"
          }
        }
      ]
    },
    {
      "cell_type": "code",
      "source": [
        ""
      ],
      "metadata": {
        "id": "2OovgVvsBPGr"
      },
      "execution_count": null,
      "outputs": []
    }
  ]
}