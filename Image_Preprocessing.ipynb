{
  "cells": [
    {
      "cell_type": "markdown",
      "metadata": {
        "id": "GVXqHPxoAFas"
      },
      "source": [
        "## Mount Drive & Libraries"
      ]
    },
    {
      "cell_type": "code",
      "execution_count": null,
      "metadata": {
        "id": "7pHFHWfFBi5z",
        "colab": {
          "base_uri": "https://localhost:8080/"
        },
        "outputId": "f366caeb-e5d2-4b23-f837-720dde8709c5"
      },
      "outputs": [
        {
          "output_type": "stream",
          "name": "stdout",
          "text": [
            "Mounted at /content/drive\n"
          ]
        }
      ],
      "source": [
        "from google.colab import drive\n",
        "drive.mount('/content/drive')"
      ]
    },
    {
      "cell_type": "code",
      "execution_count": null,
      "metadata": {
        "colab": {
          "base_uri": "https://localhost:8080/"
        },
        "id": "YiExtkDRevEd",
        "outputId": "fd7923b6-462d-447e-9e76-a9d51aa1b8a6"
      },
      "outputs": [
        {
          "output_type": "stream",
          "name": "stdout",
          "text": [
            "Looking in indexes: https://pypi.org/simple, https://us-python.pkg.dev/colab-wheels/public/simple/\n",
            "Collecting opendatasets\n",
            "  Downloading opendatasets-0.1.22-py3-none-any.whl (15 kB)\n",
            "Requirement already satisfied: click in /usr/local/lib/python3.7/dist-packages (from opendatasets) (7.1.2)\n",
            "Requirement already satisfied: kaggle in /usr/local/lib/python3.7/dist-packages (from opendatasets) (1.5.12)\n",
            "Requirement already satisfied: tqdm in /usr/local/lib/python3.7/dist-packages (from opendatasets) (4.64.0)\n",
            "Requirement already satisfied: certifi in /usr/local/lib/python3.7/dist-packages (from kaggle->opendatasets) (2022.5.18.1)\n",
            "Requirement already satisfied: python-slugify in /usr/local/lib/python3.7/dist-packages (from kaggle->opendatasets) (6.1.2)\n",
            "Requirement already satisfied: six>=1.10 in /usr/local/lib/python3.7/dist-packages (from kaggle->opendatasets) (1.15.0)\n",
            "Requirement already satisfied: python-dateutil in /usr/local/lib/python3.7/dist-packages (from kaggle->opendatasets) (2.8.2)\n",
            "Requirement already satisfied: urllib3 in /usr/local/lib/python3.7/dist-packages (from kaggle->opendatasets) (1.24.3)\n",
            "Requirement already satisfied: requests in /usr/local/lib/python3.7/dist-packages (from kaggle->opendatasets) (2.23.0)\n",
            "Requirement already satisfied: text-unidecode>=1.3 in /usr/local/lib/python3.7/dist-packages (from python-slugify->kaggle->opendatasets) (1.3)\n",
            "Requirement already satisfied: chardet<4,>=3.0.2 in /usr/local/lib/python3.7/dist-packages (from requests->kaggle->opendatasets) (3.0.4)\n",
            "Requirement already satisfied: idna<3,>=2.5 in /usr/local/lib/python3.7/dist-packages (from requests->kaggle->opendatasets) (2.10)\n",
            "Installing collected packages: opendatasets\n",
            "Successfully installed opendatasets-0.1.22\n",
            "Looking in indexes: https://pypi.org/simple, https://us-python.pkg.dev/colab-wheels/public/simple/\n",
            "Collecting chart_studio\n",
            "  Downloading chart_studio-1.1.0-py3-none-any.whl (64 kB)\n",
            "\u001b[K     |████████████████████████████████| 64 kB 2.3 MB/s \n",
            "\u001b[?25hRequirement already satisfied: requests in /usr/local/lib/python3.7/dist-packages (from chart_studio) (2.23.0)\n",
            "Requirement already satisfied: plotly in /usr/local/lib/python3.7/dist-packages (from chart_studio) (5.5.0)\n",
            "Collecting retrying>=1.3.3\n",
            "  Downloading retrying-1.3.3.tar.gz (10 kB)\n",
            "Requirement already satisfied: six in /usr/local/lib/python3.7/dist-packages (from chart_studio) (1.15.0)\n",
            "Requirement already satisfied: tenacity>=6.2.0 in /usr/local/lib/python3.7/dist-packages (from plotly->chart_studio) (8.0.1)\n",
            "Requirement already satisfied: certifi>=2017.4.17 in /usr/local/lib/python3.7/dist-packages (from requests->chart_studio) (2022.5.18.1)\n",
            "Requirement already satisfied: idna<3,>=2.5 in /usr/local/lib/python3.7/dist-packages (from requests->chart_studio) (2.10)\n",
            "Requirement already satisfied: urllib3!=1.25.0,!=1.25.1,<1.26,>=1.21.1 in /usr/local/lib/python3.7/dist-packages (from requests->chart_studio) (1.24.3)\n",
            "Requirement already satisfied: chardet<4,>=3.0.2 in /usr/local/lib/python3.7/dist-packages (from requests->chart_studio) (3.0.4)\n",
            "Building wheels for collected packages: retrying\n",
            "  Building wheel for retrying (setup.py) ... \u001b[?25l\u001b[?25hdone\n",
            "  Created wheel for retrying: filename=retrying-1.3.3-py3-none-any.whl size=11447 sha256=ca0d06e611b06d89755c68c475ccfa614ad4d2109a18f59f88078a7c908fb6e5\n",
            "  Stored in directory: /root/.cache/pip/wheels/f9/8d/8d/f6af3f7f9eea3553bc2fe6d53e4b287dad18b06a861ac56ddf\n",
            "Successfully built retrying\n",
            "Installing collected packages: retrying, chart-studio\n",
            "Successfully installed chart-studio-1.1.0 retrying-1.3.3\n"
          ]
        }
      ],
      "source": [
        "!pip install opendatasets\n",
        "!pip install chart_studio"
      ]
    },
    {
      "cell_type": "code",
      "execution_count": null,
      "metadata": {
        "colab": {
          "base_uri": "https://localhost:8080/",
          "height": 17
        },
        "id": "Be0UX1qQ529b",
        "outputId": "65c0ecb6-d230-496b-f108-62bac9272348"
      },
      "outputs": [
        {
          "output_type": "display_data",
          "data": {
            "text/html": [
              "        <script type=\"text/javascript\">\n",
              "        window.PlotlyConfig = {MathJaxConfig: 'local'};\n",
              "        if (window.MathJax) {MathJax.Hub.Config({SVG: {font: \"STIX-Web\"}});}\n",
              "        if (typeof require !== 'undefined') {\n",
              "        require.undef(\"plotly\");\n",
              "        requirejs.config({\n",
              "            paths: {\n",
              "                'plotly': ['https://cdn.plot.ly/plotly-2.8.3.min']\n",
              "            }\n",
              "        });\n",
              "        require(['plotly'], function(Plotly) {\n",
              "            window._Plotly = Plotly;\n",
              "        });\n",
              "        }\n",
              "        </script>\n",
              "        "
            ]
          },
          "metadata": {}
        }
      ],
      "source": [
        "import opendatasets as od\n",
        "from google.colab import drive\n",
        "\n",
        "import cv2\n",
        "import imutils\n",
        "import numpy as np\n",
        "import pandas as pd\n",
        "\n",
        "import seaborn as sns\n",
        "import plotly.graph_objs as go\n",
        "import matplotlib.pyplot as plt\n",
        "from plotly.offline import iplot\n",
        "from wordcloud import WordCloud\n",
        "\n",
        "from PIL import Image\n",
        "from sklearn.ensemble import RandomForestClassifier\n",
        "from sklearn.model_selection import RandomizedSearchCV\n",
        "from sklearn.metrics import accuracy_score\n",
        "from sklearn.metrics import confusion_matrix\n",
        "from wordcloud import WordCloud, STOPWORDS\n",
        "\n",
        "import plotly.express as px\n",
        "import chart_studio.plotly as py\n",
        "import plotly.graph_objs as go\n",
        "from plotly.offline import iplot\n",
        "import cufflinks\n",
        "cufflinks.go_offline()\n",
        "cufflinks.set_config_file(world_readable=True, theme='pearl')"
      ]
    },
    {
      "cell_type": "code",
      "execution_count": null,
      "metadata": {
        "id": "-YRkq0JQNNsk"
      },
      "outputs": [],
      "source": [
        "#filepath = '/content/drive/My Drive/ML/Data/Handwriting/' #On Drive \n",
        "filepath = '/content/drive/My Drive/MSCA_ML/Final_Project/Data/Handwriting/'\n",
        "#df_train = pd.read_csv(filepath + 'df_train_with_bb.csv')"
      ]
    },
    {
      "cell_type": "markdown",
      "metadata": {
        "id": "xy92u3EBemOX"
      },
      "source": [
        "### Loading Image"
      ]
    },
    {
      "cell_type": "code",
      "execution_count": null,
      "metadata": {
        "colab": {
          "base_uri": "https://localhost:8080/"
        },
        "id": "ZXJHl1FEenwv",
        "outputId": "6fd76db9-a828-4d05-f9b7-637144ef7904"
      },
      "outputs": [
        {
          "output_type": "stream",
          "name": "stdout",
          "text": [
            "Please provide your Kaggle credentials to download this dataset. Learn more: http://bit.ly/kaggle-creds\n",
            "Your Kaggle username: xuetingggg\n",
            "Your Kaggle Key: ··········\n",
            "Downloading handwriting-recognition.zip to ./handwriting-recognition\n"
          ]
        },
        {
          "output_type": "stream",
          "name": "stderr",
          "text": [
            "100%|██████████| 1.26G/1.26G [00:06<00:00, 200MB/s]\n"
          ]
        },
        {
          "output_type": "stream",
          "name": "stdout",
          "text": [
            "\n"
          ]
        }
      ],
      "source": [
        "od.download(\"https://www.kaggle.com/datasets/landlord/handwriting-recognition/download\")"
      ]
    },
    {
      "cell_type": "code",
      "execution_count": null,
      "metadata": {
        "id": "O-qNJzXRe497"
      },
      "outputs": [],
      "source": [
        "file_path_train = '/content/handwriting-recognition/train_v2/train/'\n",
        "file_path_test = '/content/handwriting-recognition/test_v2/test/'\n",
        "file_path_valid = '/content/handwriting-recognition/validation_v2/validation/'"
      ]
    },
    {
      "cell_type": "code",
      "execution_count": null,
      "metadata": {
        "id": "8XmLfQvpggpk"
      },
      "outputs": [],
      "source": [
        "train = pd.read_csv(filepath + 'train.csv')\n",
        "valid = pd.read_csv(filepath + 'valid.csv')"
      ]
    },
    {
      "cell_type": "markdown",
      "metadata": {
        "id": "tIzh3KJFlRMh"
      },
      "source": [
        "### Image Shape EDA"
      ]
    },
    {
      "cell_type": "code",
      "execution_count": null,
      "metadata": {
        "id": "v7E3foCWlmbu"
      },
      "outputs": [],
      "source": [
        "img_filepath = file_path_train"
      ]
    },
    {
      "cell_type": "code",
      "execution_count": null,
      "metadata": {
        "id": "W825a0BKlToj"
      },
      "outputs": [],
      "source": [
        "image_shapes = []\n",
        "for p in range(len(train)):\n",
        "    image = cv2.imread(img_filepath + train.iloc[p].FILENAME)\n",
        "    temp_shape = image.shape\n",
        "    image_shapes.append(temp_shape)"
      ]
    },
    {
      "cell_type": "code",
      "execution_count": null,
      "metadata": {
        "id": "9E5cd4pqli1P"
      },
      "outputs": [],
      "source": [
        "df_shape = pd.DataFrame(image_shapes)"
      ]
    },
    {
      "cell_type": "code",
      "execution_count": null,
      "metadata": {
        "colab": {
          "base_uri": "https://localhost:8080/",
          "height": 282
        },
        "id": "2NJ450ZbuADp",
        "outputId": "f6984b48-3a77-4f76-94f3-71a6d0d98858"
      },
      "outputs": [
        {
          "output_type": "execute_result",
          "data": {
            "text/plain": [
              "<matplotlib.axes._subplots.AxesSubplot at 0x7f622bd283d0>"
            ]
          },
          "metadata": {},
          "execution_count": 14
        },
        {
          "output_type": "display_data",
          "data": {
            "text/plain": [
              "<Figure size 432x288 with 1 Axes>"
            ],
            "image/png": "[encoded data removed]"
          },
          "metadata": {
            "needs_background": "light"
          }
        }
      ],
      "source": [
        "df_shape[0].hist()"
      ]
    },
    {
      "cell_type": "code",
      "execution_count": null,
      "metadata": {
        "colab": {
          "base_uri": "https://localhost:8080/",
          "height": 282
        },
        "id": "j5WltpWZuEC5",
        "outputId": "9cbb1eed-176f-4eb7-817a-8a818e9cbc36"
      },
      "outputs": [
        {
          "output_type": "execute_result",
          "data": {
            "text/plain": [
              "<matplotlib.axes._subplots.AxesSubplot at 0x7f622bd1f7d0>"
            ]
          },
          "metadata": {},
          "execution_count": 15
        },
        {
          "output_type": "display_data",
          "data": {
            "text/plain": [
              "<Figure size 432x288 with 1 Axes>"
            ],
            "image/png": "[encoded data removed]"
          },
          "metadata": {
            "needs_background": "light"
          }
        }
      ],
      "source": [
        "df_shape[1].hist()"
      ]
    },
    {
      "cell_type": "code",
      "execution_count": null,
      "metadata": {
        "id": "d62UoI8-ug3A"
      },
      "outputs": [],
      "source": [
        "df_shape.columns = ['height', 'width', 'dim']"
      ]
    },
    {
      "cell_type": "code",
      "execution_count": null,
      "metadata": {
        "id": "84f4NKCEmt6j"
      },
      "outputs": [],
      "source": [
        "#df_shape.to_csv(filepath + 'df_shape.csv')"
      ]
    },
    {
      "cell_type": "code",
      "execution_count": null,
      "metadata": {
        "colab": {
          "base_uri": "https://localhost:8080/",
          "height": 279
        },
        "id": "CET3Q5Eluac7",
        "outputId": "2b0dbb84-3d7a-469c-f7e2-a4222d2c7a7f"
      },
      "outputs": [
        {
          "output_type": "display_data",
          "data": {
            "text/plain": [
              "<Figure size 432x288 with 1 Axes>"
            ],
            "image/png": "[encoded data removed]"
          },
          "metadata": {
            "needs_background": "light"
          }
        }
      ],
      "source": [
        "ax1 = df_shape.plot.scatter(x='height', y='width', c='DarkBlue')"
      ]
    },
    {
      "cell_type": "code",
      "execution_count": null,
      "metadata": {
        "id": "fOp_wfJavPUG"
      },
      "outputs": [],
      "source": [
        "train_n_shape = train.merge(df_shape, how='inner', left_index=True, right_index = True)"
      ]
    },
    {
      "cell_type": "code",
      "execution_count": null,
      "metadata": {
        "colab": {
          "base_uri": "https://localhost:8080/",
          "height": 206
        },
        "id": "nvRinAiZvyDG",
        "outputId": "a2eab1c6-6166-4d44-fa9b-501b5fb85712"
      },
      "outputs": [
        {
          "output_type": "execute_result",
          "data": {
            "text/plain": [
              "          FILENAME IDENTITY  height  width  dim\n",
              "0  TRAIN_00006.jpg    lucie      31    284    3\n",
              "1  TRAIN_00011.jpg     emma      44    324    3\n",
              "2  TRAIN_00020.jpg   romain      44    324    3\n",
              "3  TRAIN_00027.jpg   thomas      44    324    3\n",
              "4  TRAIN_00069.jpg     ines      23    388    3"
            ],
            "text/html": [
              "\n",
              "  <div id=\"df-99f83c91-c28f-4e74-9688-9f4f942c7734\">\n",
              "    <div class=\"colab-df-container\">\n",
              "      <div>\n",
              "<style scoped>\n",
              "    .dataframe tbody tr th:only-of-type {\n",
              "        vertical-align: middle;\n",
              "    }\n",
              "\n",
              "    .dataframe tbody tr th {\n",
              "        vertical-align: top;\n",
              "    }\n",
              "\n",
              "    .dataframe thead th {\n",
              "        text-align: right;\n",
              "    }\n",
              "</style>\n",
              "<table border=\"1\" class=\"dataframe\">\n",
              "  <thead>\n",
              "    <tr style=\"text-align: right;\">\n",
              "      <th></th>\n",
              "      <th>FILENAME</th>\n",
              "      <th>IDENTITY</th>\n",
              "      <th>height</th>\n",
              "      <th>width</th>\n",
              "      <th>dim</th>\n",
              "    </tr>\n",
              "  </thead>\n",
              "  <tbody>\n",
              "    <tr>\n",
              "      <th>0</th>\n",
              "      <td>TRAIN_00006.jpg</td>\n",
              "      <td>lucie</td>\n",
              "      <td>31</td>\n",
              "      <td>284</td>\n",
              "      <td>3</td>\n",
              "    </tr>\n",
              "    <tr>\n",
              "      <th>1</th>\n",
              "      <td>TRAIN_00011.jpg</td>\n",
              "      <td>emma</td>\n",
              "      <td>44</td>\n",
              "      <td>324</td>\n",
              "      <td>3</td>\n",
              "    </tr>\n",
              "    <tr>\n",
              "      <th>2</th>\n",
              "      <td>TRAIN_00020.jpg</td>\n",
              "      <td>romain</td>\n",
              "      <td>44</td>\n",
              "      <td>324</td>\n",
              "      <td>3</td>\n",
              "    </tr>\n",
              "    <tr>\n",
              "      <th>3</th>\n",
              "      <td>TRAIN_00027.jpg</td>\n",
              "      <td>thomas</td>\n",
              "      <td>44</td>\n",
              "      <td>324</td>\n",
              "      <td>3</td>\n",
              "    </tr>\n",
              "    <tr>\n",
              "      <th>4</th>\n",
              "      <td>TRAIN_00069.jpg</td>\n",
              "      <td>ines</td>\n",
              "      <td>23</td>\n",
              "      <td>388</td>\n",
              "      <td>3</td>\n",
              "    </tr>\n",
              "  </tbody>\n",
              "</table>\n",
              "</div>\n",
              "      <button class=\"colab-df-convert\" onclick=\"convertToInteractive('df-99f83c91-c28f-4e74-9688-9f4f942c7734')\"\n",
              "              title=\"Convert this dataframe to an interactive table.\"\n",
              "              style=\"display:none;\">\n",
              "        \n",
              "  <svg xmlns=\"http://www.w3.org/2000/svg\" height=\"24px\"viewBox=\"0 0 24 24\"\n",
              "       width=\"24px\">\n",
              "    <path d=\"M0 0h24v24H0V0z\" fill=\"none\"/>\n",
              "    <path d=\"M18.56 5.44l.94 2.06.94-2.06 2.06-.94-2.06-.94-.94-2.06-.94 2.06-2.06.94zm-11 1L8.5 8.5l.94-2.06 2.06-.94-2.06-.94L8.5 2.5l-.94 2.06-2.06.94zm10 10l.94 2.06.94-2.06 2.06-.94-2.06-.94-.94-2.06-.94 2.06-2.06.94z\"/><path d=\"M17.41 7.96l-1.37-1.37c-.4-.4-.92-.59-1.43-.59-.52 0-1.04.2-1.43.59L10.3 9.45l-7.72 7.72c-.78.78-.78 2.05 0 2.83L4 21.41c.39.39.9.59 1.41.59.51 0 1.02-.2 1.41-.59l7.78-7.78 2.81-2.81c.8-.78.8-2.07 0-2.86zM5.41 20L4 18.59l7.72-7.72 1.47 1.35L5.41 20z\"/>\n",
              "  </svg>\n",
              "      </button>\n",
              "      \n",
              "  <style>\n",
              "    .colab-df-container {\n",
              "      display:flex;\n",
              "      flex-wrap:wrap;\n",
              "      gap: 12px;\n",
              "    }\n",
              "\n",
              "    .colab-df-convert {\n",
              "      background-color: #E8F0FE;\n",
              "      border: none;\n",
              "      border-radius: 50%;\n",
              "      cursor: pointer;\n",
              "      display: none;\n",
              "      fill: #1967D2;\n",
              "      height: 32px;\n",
              "      padding: 0 0 0 0;\n",
              "      width: 32px;\n",
              "    }\n",
              "\n",
              "    .colab-df-convert:hover {\n",
              "      background-color: #E2EBFA;\n",
              "      box-shadow: 0px 1px 2px rgba(60, 64, 67, 0.3), 0px 1px 3px 1px rgba(60, 64, 67, 0.15);\n",
              "      fill: #174EA6;\n",
              "    }\n",
              "\n",
              "    [theme=dark] .colab-df-convert {\n",
              "      background-color: #3B4455;\n",
              "      fill: #D2E3FC;\n",
              "    }\n",
              "\n",
              "    [theme=dark] .colab-df-convert:hover {\n",
              "      background-color: #434B5C;\n",
              "      box-shadow: 0px 1px 3px 1px rgba(0, 0, 0, 0.15);\n",
              "      filter: drop-shadow(0px 1px 2px rgba(0, 0, 0, 0.3));\n",
              "      fill: #FFFFFF;\n",
              "    }\n",
              "  </style>\n",
              "\n",
              "      <script>\n",
              "        const buttonEl =\n",
              "          document.querySelector('#df-99f83c91-c28f-4e74-9688-9f4f942c7734 button.colab-df-convert');\n",
              "        buttonEl.style.display =\n",
              "          google.colab.kernel.accessAllowed ? 'block' : 'none';\n",
              "\n",
              "        async function convertToInteractive(key) {\n",
              "          const element = document.querySelector('#df-99f83c91-c28f-4e74-9688-9f4f942c7734');\n",
              "          const dataTable =\n",
              "            await google.colab.kernel.invokeFunction('convertToInteractive',\n",
              "                                                     [key], {});\n",
              "          if (!dataTable) return;\n",
              "\n",
              "          const docLinkHtml = 'Like what you see? Visit the ' +\n",
              "            '<a target=\"_blank\" href=https://colab.research.google.com/notebooks/data_table.ipynb>data table notebook</a>'\n",
              "            + ' to learn more about interactive tables.';\n",
              "          element.innerHTML = '';\n",
              "          dataTable['output_type'] = 'display_data';\n",
              "          await google.colab.output.renderOutput(dataTable, element);\n",
              "          const docLink = document.createElement('div');\n",
              "          docLink.innerHTML = docLinkHtml;\n",
              "          element.appendChild(docLink);\n",
              "        }\n",
              "      </script>\n",
              "    </div>\n",
              "  </div>\n",
              "  "
            ]
          },
          "metadata": {},
          "execution_count": 20
        }
      ],
      "source": [
        "train_n_shape.head()"
      ]
    },
    {
      "cell_type": "markdown",
      "metadata": {
        "id": "K1NuTOpb2B0u"
      },
      "source": [
        "### Clustering with KMeans"
      ]
    },
    {
      "cell_type": "markdown",
      "metadata": {
        "id": "re8AHOtxGvON"
      },
      "source": [
        "#### Helper Function get_avg_image"
      ]
    },
    {
      "cell_type": "code",
      "execution_count": null,
      "metadata": {
        "id": "eYK6CyOvyDwQ"
      },
      "outputs": [],
      "source": [
        "#Given the filename list, output length and output width, outputs the average image of that name\n",
        "def get_avg_image(file_list, img_w, img_h):\n",
        "  \n",
        "  avg_img = np.zeros((img_h,img_w),float) #Avg image for each name, initialied\n",
        "\n",
        "  for i in range(len(file_list)):\n",
        "    name_dir = file_path_train+file_list[i]\n",
        "    name_img = cv2.imread(name_dir, cv2.IMREAD_GRAYSCALE)\n",
        "    img_reshape = cv2.resize(name_img, dsize=(img_w, img_h))\n",
        "    avg_img += img_reshape #accumulator for each name \n",
        "    \n",
        "  avg_img = avg_img/len(file_list)\n",
        "  return avg_img"
      ]
    },
    {
      "cell_type": "code",
      "execution_count": null,
      "metadata": {
        "colab": {
          "base_uri": "https://localhost:8080/",
          "height": 312
        },
        "id": "qoBpESB00Nol",
        "outputId": "c8ce5bb7-68c4-4399-d604-d450aef2c97a"
      },
      "outputs": [
        {
          "output_type": "execute_result",
          "data": {
            "text/plain": [
              "Text(0, 0.5, 'WCSS')"
            ]
          },
          "metadata": {},
          "execution_count": 44
        },
        {
          "output_type": "display_data",
          "data": {
            "text/plain": [
              "<Figure size 432x288 with 1 Axes>"
            ],
            "image/png": "[encoded data removed]"
          },
          "metadata": {
            "needs_background": "light"
          }
        }
      ],
      "source": [
        "from sklearn.cluster import KMeans\n",
        "\n",
        "x = train_n_shape[['height', 'width']]\n",
        "wcss=[]\n",
        "for i in range(1,6):\n",
        "  kmeans = KMeans(i)\n",
        "  kmeans.fit(x)\n",
        "  wcss_iter = kmeans.inertia_\n",
        "  wcss.append(wcss_iter)\n",
        "\n",
        "number_clusters = range(1,6)\n",
        "plt.plot(number_clusters,wcss)\n",
        "plt.title('The Elbow title')\n",
        "plt.xlabel('Number of clusters')\n",
        "plt.ylabel('WCSS')"
      ]
    },
    {
      "cell_type": "code",
      "execution_count": null,
      "metadata": {
        "id": "3sNuptcR0q95"
      },
      "outputs": [],
      "source": [
        "kmeans = KMeans(4)\n",
        "identified_clusters = kmeans.fit(x)"
      ]
    },
    {
      "cell_type": "code",
      "source": [
        "identified_clusters.labels_"
      ],
      "metadata": {
        "colab": {
          "base_uri": "https://localhost:8080/"
        },
        "id": "6jwknjAj94x8",
        "outputId": "2978dbd3-4912-471f-c4e6-c2cb3d15b20d"
      },
      "execution_count": null,
      "outputs": [
        {
          "output_type": "execute_result",
          "data": {
            "text/plain": [
              "array([1, 2, 2, ..., 0, 0, 2], dtype=int32)"
            ]
          },
          "metadata": {},
          "execution_count": 85
        }
      ]
    },
    {
      "cell_type": "code",
      "source": [
        "plt.scatter(train_n_shape['height'],train_n_shape['width'],c=identified_clusters.labels_,cmap='rainbow')"
      ],
      "metadata": {
        "colab": {
          "base_uri": "https://localhost:8080/",
          "height": 282
        },
        "id": "ugXWt0TJ90e7",
        "outputId": "a864fd15-9aea-4e7a-d000-97a6e4a65e00"
      },
      "execution_count": null,
      "outputs": [
        {
          "output_type": "execute_result",
          "data": {
            "text/plain": [
              "<matplotlib.collections.PathCollection at 0x7f6236aa3650>"
            ]
          },
          "metadata": {},
          "execution_count": 86
        },
        {
          "output_type": "display_data",
          "data": {
            "text/plain": [
              "<Figure size 432x288 with 1 Axes>"
            ],
            "image/png": "[encoded data removed]"
          },
          "metadata": {
            "needs_background": "light"
          }
        }
      ]
    },
    {
      "cell_type": "code",
      "source": [
        "train_n_shape['km_cluster'] = identified_clusters.labels_"
      ],
      "metadata": {
        "id": "1VTAd9CL-KDy"
      },
      "execution_count": null,
      "outputs": []
    },
    {
      "cell_type": "code",
      "source": [
        "kmeans_cluster_avg = [] #accumulator of image for each cluster\n",
        "for n in range(len(set(identified_clusters.labels_))):\n",
        "  temp_cluster = np.array(train_n_shape[train_n_shape['km_cluster'] == n].FILENAME)\n",
        "  temp_max_h = max(train_n_shape[train_n_shape['km_cluster'] == n].height)\n",
        "  temp_max_w = max(train_n_shape[train_n_shape['km_cluster'] == n].width)\n",
        "  avg = get_avg_image(temp_cluster, temp_max_w, temp_max_h)\n",
        "  kmeans_cluster_avg.append(avg)"
      ],
      "metadata": {
        "id": "ZO1_w8B3-Ihp"
      },
      "execution_count": null,
      "outputs": []
    },
    {
      "cell_type": "code",
      "source": [
        "plt.imshow(kmeans_cluster_avg[0], cmap = 'gray')"
      ],
      "metadata": {
        "colab": {
          "base_uri": "https://localhost:8080/",
          "height": 100
        },
        "id": "3fn5CodP-lfG",
        "outputId": "a9ecd3e9-7ef6-49ec-d8eb-1ebc69e7bc75"
      },
      "execution_count": null,
      "outputs": [
        {
          "output_type": "execute_result",
          "data": {
            "text/plain": [
              "<matplotlib.image.AxesImage at 0x7f62368a4290>"
            ]
          },
          "metadata": {},
          "execution_count": 79
        },
        {
          "output_type": "display_data",
          "data": {
            "text/plain": [
              "<Figure size 432x288 with 1 Axes>"
            ],
            "image/png": "[encoded data removed]"
          },
          "metadata": {
            "needs_background": "light"
          }
        }
      ]
    },
    {
      "cell_type": "code",
      "source": [
        "plt.imshow(kmeans_cluster_avg[1], cmap = 'gray')"
      ],
      "metadata": {
        "colab": {
          "base_uri": "https://localhost:8080/",
          "height": 123
        },
        "id": "rFpmTdHR-hA2",
        "outputId": "df09c763-820c-4b13-b3a9-cd3a2e62626a"
      },
      "execution_count": null,
      "outputs": [
        {
          "output_type": "execute_result",
          "data": {
            "text/plain": [
              "<matplotlib.image.AxesImage at 0x7f6236809190>"
            ]
          },
          "metadata": {},
          "execution_count": 80
        },
        {
          "output_type": "display_data",
          "data": {
            "text/plain": [
              "<Figure size 432x288 with 1 Axes>"
            ],
            "image/png": "[encoded data removed]"
          },
          "metadata": {
            "needs_background": "light"
          }
        }
      ]
    },
    {
      "cell_type": "code",
      "source": [
        "plt.imshow(kmeans_cluster_avg[2], cmap = 'gray')"
      ],
      "metadata": {
        "colab": {
          "base_uri": "https://localhost:8080/",
          "height": 114
        },
        "id": "36-VddvE-ilQ",
        "outputId": "25c2f8ae-d424-49f8-92a8-d13277946fb8"
      },
      "execution_count": null,
      "outputs": [
        {
          "output_type": "execute_result",
          "data": {
            "text/plain": [
              "<matplotlib.image.AxesImage at 0x7f62367e3c10>"
            ]
          },
          "metadata": {},
          "execution_count": 81
        },
        {
          "output_type": "display_data",
          "data": {
            "text/plain": [
              "<Figure size 432x288 with 1 Axes>"
            ],
            "image/png": "[encoded data removed]"
          },
          "metadata": {
            "needs_background": "light"
          }
        }
      ]
    },
    {
      "cell_type": "code",
      "source": [
        "plt.imshow(kmeans_cluster_avg[3], cmap = 'gray')"
      ],
      "metadata": {
        "colab": {
          "base_uri": "https://localhost:8080/",
          "height": 153
        },
        "id": "ceI7Ea46-kXA",
        "outputId": "26d0ba99-f630-4338-bf5f-7826503b4d47"
      },
      "execution_count": null,
      "outputs": [
        {
          "output_type": "execute_result",
          "data": {
            "text/plain": [
              "<matplotlib.image.AxesImage at 0x7f6236748b90>"
            ]
          },
          "metadata": {},
          "execution_count": 82
        },
        {
          "output_type": "display_data",
          "data": {
            "text/plain": [
              "<Figure size 432x288 with 1 Axes>"
            ],
            "image/png": "[encoded data removed]"
          },
          "metadata": {
            "needs_background": "light"
          }
        }
      ]
    },
    {
      "cell_type": "markdown",
      "source": [
        "##### Boundary Testing"
      ],
      "metadata": {
        "id": "9ZZblmF3_ewH"
      }
    },
    {
      "cell_type": "code",
      "source": [
        "img0 = kmeans_cluster_avg[0].copy()\n",
        "cv2.rectangle(img0, (75, 0), (250, 35), (0,255,0),1) #Second tuple - left up (x, y); third tuple - right bottom (x, y)\n",
        "plt.imshow(img0, cmap = 'gray')"
      ],
      "metadata": {
        "colab": {
          "base_uri": "https://localhost:8080/",
          "height": 100
        },
        "id": "DE2r9hgD_gU-",
        "outputId": "ff412f86-cff5-43df-be77-3567e1ecdc89"
      },
      "execution_count": null,
      "outputs": [
        {
          "output_type": "execute_result",
          "data": {
            "text/plain": [
              "<matplotlib.image.AxesImage at 0x7f62365e8750>"
            ]
          },
          "metadata": {},
          "execution_count": 92
        },
        {
          "output_type": "display_data",
          "data": {
            "text/plain": [
              "<Figure size 432x288 with 1 Axes>"
            ],
            "image/png": "[encoded data removed]"
          },
          "metadata": {
            "needs_background": "light"
          }
        }
      ]
    },
    {
      "cell_type": "code",
      "source": [
        "img1 = kmeans_cluster_avg[1].copy()\n",
        "cv2.rectangle(img1, (0, 10), (200, 40), (0,255,0),1) #Second tuple - left up (x, y); third tuple - right bottom (x, y)\n",
        "plt.imshow(img1, cmap = 'gray')"
      ],
      "metadata": {
        "colab": {
          "base_uri": "https://localhost:8080/",
          "height": 123
        },
        "id": "MDgPzCgA_qyG",
        "outputId": "3e9bb0f2-89fd-4d03-f5e4-87a860c0ad55"
      },
      "execution_count": null,
      "outputs": [
        {
          "output_type": "execute_result",
          "data": {
            "text/plain": [
              "<matplotlib.image.AxesImage at 0x7f62347f7b50>"
            ]
          },
          "metadata": {},
          "execution_count": 107
        },
        {
          "output_type": "display_data",
          "data": {
            "text/plain": [
              "<Figure size 432x288 with 1 Axes>"
            ],
            "image/png": "[encoded data removed]"
          },
          "metadata": {
            "needs_background": "light"
          }
        }
      ]
    },
    {
      "cell_type": "code",
      "source": [
        "img2 = kmeans_cluster_avg[2].copy()\n",
        "cv2.rectangle(img2, (0, 0), (200, 40), (0,255,0),1) #Second tuple - left up (x, y); third tuple - right bottom (x, y)\n",
        "plt.imshow(img2, cmap = 'gray')"
      ],
      "metadata": {
        "colab": {
          "base_uri": "https://localhost:8080/",
          "height": 114
        },
        "id": "WPvjtDTp_ujM",
        "outputId": "5db07126-8532-4058-f859-95bf4bcdc12a"
      },
      "execution_count": null,
      "outputs": [
        {
          "output_type": "execute_result",
          "data": {
            "text/plain": [
              "<matplotlib.image.AxesImage at 0x7f62347423d0>"
            ]
          },
          "metadata": {},
          "execution_count": 109
        },
        {
          "output_type": "display_data",
          "data": {
            "text/plain": [
              "<Figure size 432x288 with 1 Axes>"
            ],
            "image/png": "[encoded data removed]"
          },
          "metadata": {
            "needs_background": "light"
          }
        }
      ]
    },
    {
      "cell_type": "code",
      "source": [
        "img3 = kmeans_cluster_avg[3].copy()\n",
        "cv2.rectangle(img3, (25, 35), (175, 65), (0,255,0),1) #Second tuple - left up (x, y); third tuple - right bottom (x, y)\n",
        "plt.imshow(img3, cmap = 'gray')"
      ],
      "metadata": {
        "colab": {
          "base_uri": "https://localhost:8080/",
          "height": 153
        },
        "id": "u4wvMLkBABBF",
        "outputId": "dda9c2eb-ba1e-4308-d767-dc02667d1d57"
      },
      "execution_count": null,
      "outputs": [
        {
          "output_type": "execute_result",
          "data": {
            "text/plain": [
              "<matplotlib.image.AxesImage at 0x7f6234897510>"
            ]
          },
          "metadata": {},
          "execution_count": 106
        },
        {
          "output_type": "display_data",
          "data": {
            "text/plain": [
              "<Figure size 432x288 with 1 Axes>"
            ],
            "image/png": "[encoded data removed]"
          },
          "metadata": {
            "needs_background": "light"
          }
        }
      ]
    },
    {
      "cell_type": "code",
      "source": [
        "kmeans_boundary_list = [[(75, 0), (250, 35)], [(0, 10), (200, 40)], [(0, 0), (200, 40)], [(25, 35), (175, 65)]]"
      ],
      "metadata": {
        "id": "Gtn1Q0i9-5UU"
      },
      "execution_count": null,
      "outputs": []
    },
    {
      "cell_type": "code",
      "source": [
        "kmeans_boundary_list"
      ],
      "metadata": {
        "colab": {
          "base_uri": "https://localhost:8080/"
        },
        "id": "Y918wCln_TAI",
        "outputId": "d741f168-e4dd-44f3-9a7e-c0e746fc5dfd"
      },
      "execution_count": null,
      "outputs": [
        {
          "output_type": "execute_result",
          "data": {
            "text/plain": [
              "[[(75, 0), (250, 35)],\n",
              " [(0, 10), (200, 40)],\n",
              " [(0, 0), (200, 40)],\n",
              " [(25, 35), (175, 65)]]"
            ]
          },
          "metadata": {},
          "execution_count": 115
        }
      ]
    },
    {
      "cell_type": "markdown",
      "metadata": {
        "id": "VyBEDVFDxkuq"
      },
      "source": [
        "### Cropping Images and Padding"
      ]
    },
    {
      "cell_type": "markdown",
      "metadata": {
        "id": "E4FoB0eTEZue"
      },
      "source": [
        "From the average images we see that four classes of images from KMeans varies in image width and height, and each cluster have a common type of noise in the image. We preprocess our images accordingly."
      ]
    },
    {
      "cell_type": "markdown",
      "metadata": {
        "id": "iGRa7TvLFefk"
      },
      "source": [
        "#### By KMeans"
      ]
    },
    {
      "cell_type": "code",
      "source": [
        "kmeans_boundary_list = [[(75, 0), (250, 35)], [(0, 10), (200, 40)], [(0, 0), (200, 40)], [(25, 35), (175, 65)]]"
      ],
      "metadata": {
        "id": "R3APBHm5Azqj"
      },
      "execution_count": null,
      "outputs": []
    },
    {
      "cell_type": "markdown",
      "source": [
        "##### Image Cropping by KMeans"
      ],
      "metadata": {
        "id": "dZgup5b2A-JV"
      }
    },
    {
      "cell_type": "code",
      "source": [
        "total=[]\n",
        "crop_boxes = []\n",
        "for i in range(0,len(train)):\n",
        "  img_dir =  file_path_train+train_n_shape.loc[i, 'FILENAME']\n",
        "  srcImage = Image.open(img_dir)\n",
        "  cluster = train_n_shape.loc[i, 'km_cluster']\n",
        "  image_bx = srcImage.width\n",
        "  image_by = srcImage.height\n",
        "  bx = min(kmeans_boundary_list[cluster][1][0], image_bx) \n",
        "  by = min(kmeans_boundary_list[cluster][1][1], image_by) #Take image boundary if crop boundary larger than size\n",
        "  crop_box =  kmeans_boundary_list[cluster][0] + (bx, by)\n",
        "  crop_boxes.append(crop_box)\n",
        "  srcImage = srcImage.crop(crop_box)\n",
        "  srcImage = srcImage.resize((200,35))\n",
        "  grayImage = srcImage.convert('L')\n",
        "  binarizedImage = grayImage.point(lambda x: 0 if x<200 else 1, '1')\n",
        "  pixel = list(binarizedImage.getdata())\n",
        "  total.append(pixel)"
      ],
      "metadata": {
        "id": "ZJAtImtiA-D6"
      },
      "execution_count": null,
      "outputs": []
    },
    {
      "cell_type": "code",
      "source": [
        "df_kmeans_cropped = pd.DataFrame(total)"
      ],
      "metadata": {
        "id": "e7OU2ngBBRtq"
      },
      "execution_count": null,
      "outputs": []
    },
    {
      "cell_type": "code",
      "source": [
        "df_kmeans_cropped['IDENTITY'] = train_n_shape.IDENTITY"
      ],
      "metadata": {
        "id": "QJiL6dH7BzTC"
      },
      "execution_count": null,
      "outputs": []
    },
    {
      "cell_type": "code",
      "source": [
        "#train_n_shape.to_csv(filepath + 'train_n_shape.csv')\n",
        "df_kmeans_cropped.to_csv(filepath + 'df_kmeans_cropped.csv')"
      ],
      "metadata": {
        "id": "b861FFqJBkaj"
      },
      "execution_count": null,
      "outputs": []
    }
  ],
  "metadata": {
    "accelerator": "GPU",
    "colab": {
      "collapsed_sections": [],
      "machine_shape": "hm",
      "name": "Image Preprocessing.ipynb",
      "provenance": [],
      "toc_visible": true
    },
    "kernelspec": {
      "display_name": "Python 3",
      "name": "python3"
    },
    "language_info": {
      "name": "python"
    }
  },
  "nbformat": 4,
  "nbformat_minor": 0
}