{
  "cells": [
    {
      "cell_type": "markdown",
      "metadata": {
        "id": "GVXqHPxoAFas"
      },
      "source": [
        "## Mount Drive & Libraries"
      ]
    },
    {
      "cell_type": "code",
      "execution_count": null,
      "metadata": {
        "id": "7pHFHWfFBi5z",
        "colab": {
          "base_uri": "https://localhost:8080/"
        },
        "outputId": "3abe8239-67dd-42dd-bde5-a79b084ccf4c"
      },
      "outputs": [
        {
          "output_type": "stream",
          "name": "stdout",
          "text": [
            "Mounted at /content/drive\n"
          ]
        }
      ],
      "source": [
        "from google.colab import drive\n",
        "drive.mount('/content/drive')"
      ]
    },
    {
      "cell_type": "code",
      "execution_count": null,
      "metadata": {
        "id": "Be0UX1qQ529b"
      },
      "outputs": [],
      "source": [
        "import cv2\n",
        "import imutils\n",
        "import numpy as np\n",
        "import pandas as pd"
      ]
    },
    {
      "cell_type": "markdown",
      "source": [
        "### Loading Libraries"
      ],
      "metadata": {
        "id": "kSKJh6ahTLid"
      }
    },
    {
      "cell_type": "code",
      "source": [
        "#!pip install opendatasets\n",
        "#!pip install chart_studio\n",
        "#!pip install pytesseract \n",
        "#!pip install Pillow==9.0.0\n",
        "#!pip install tesseract\n",
        "#!sudo apt update\n",
        "#!sudo apt install tesseract-ocr\n",
        "#!sudo apt install libtesseract-dev\n",
        "\n",
        "#########IF WORKING LOCAL ENV#########\n",
        "#!pip install leptonica\n",
        "#!pip install tesseract-ocr \n",
        "#brew install tesseract #On Mac"
      ],
      "metadata": {
        "id": "jVS6TOdqM2zZ"
      },
      "execution_count": null,
      "outputs": []
    },
    {
      "cell_type": "code",
      "source": [
        "import pytesseract\n",
        "from PIL import Image, ImageEnhance, ImageFilter\n",
        "import opendatasets as od\n",
        "from google.colab import drive\n",
        "\n",
        "import cv2\n",
        "import imutils\n",
        "import numpy as np\n",
        "import pandas as pd\n",
        "\n",
        "import seaborn as sns\n",
        "import plotly.graph_objs as go\n",
        "import matplotlib.pyplot as plt\n",
        "from plotly.offline import iplot\n",
        "from wordcloud import WordCloud\n",
        "\n",
        "from PIL import Image\n",
        "from sklearn.ensemble import RandomForestClassifier\n",
        "from sklearn.model_selection import RandomizedSearchCV\n",
        "from sklearn.metrics import accuracy_score\n",
        "from sklearn.metrics import confusion_matrix\n",
        "from wordcloud import WordCloud, STOPWORDS\n",
        "\n",
        "import plotly.express as px\n",
        "import chart_studio.plotly as py\n",
        "import plotly.graph_objs as go\n",
        "from plotly.offline import iplot\n",
        "import cufflinks\n",
        "cufflinks.go_offline()\n",
        "cufflinks.set_config_file(world_readable=True, theme='pearl')"
      ],
      "metadata": {
        "colab": {
          "base_uri": "https://localhost:8080/",
          "height": 17
        },
        "id": "wIQhoShjOd3s",
        "outputId": "82cb93cd-d435-4514-f589-e72d1cb005e0"
      },
      "execution_count": null,
      "outputs": [
        {
          "output_type": "display_data",
          "data": {
            "text/html": [
              "        <script type=\"text/javascript\">\n",
              "        window.PlotlyConfig = {MathJaxConfig: 'local'};\n",
              "        if (window.MathJax) {MathJax.Hub.Config({SVG: {font: \"STIX-Web\"}});}\n",
              "        if (typeof require !== 'undefined') {\n",
              "        require.undef(\"plotly\");\n",
              "        requirejs.config({\n",
              "            paths: {\n",
              "                'plotly': ['https://cdn.plot.ly/plotly-2.8.3.min']\n",
              "            }\n",
              "        });\n",
              "        require(['plotly'], function(Plotly) {\n",
              "            window._Plotly = Plotly;\n",
              "        });\n",
              "        }\n",
              "        </script>\n",
              "        "
            ]
          },
          "metadata": {}
        }
      ]
    },
    {
      "cell_type": "code",
      "source": [
        "import opendatasets as od\n",
        "od.download(\"https://www.kaggle.com/datasets/landlord/handwriting-recognition/download\", force = True)"
      ],
      "metadata": {
        "colab": {
          "base_uri": "https://localhost:8080/"
        },
        "id": "k2QKKvX3PHH4",
        "outputId": "c4dba4a0-a403-4850-f5a4-4f118b8da1b9"
      },
      "execution_count": null,
      "outputs": [
        {
          "output_type": "stream",
          "name": "stdout",
          "text": [
            "Please provide your Kaggle credentials to download this dataset. Learn more: http://bit.ly/kaggle-creds\n",
            "Your Kaggle username: xuetingggg\n",
            "Your Kaggle Key: ··········\n",
            "Downloading handwriting-recognition.zip to ./handwriting-recognition\n"
          ]
        },
        {
          "output_type": "stream",
          "name": "stderr",
          "text": [
            "100%|██████████| 1.26G/1.26G [00:26<00:00, 51.8MB/s]\n"
          ]
        },
        {
          "output_type": "stream",
          "name": "stdout",
          "text": [
            "\n"
          ]
        }
      ]
    },
    {
      "cell_type": "markdown",
      "source": [
        "#### Clustering By DBSCAN"
      ],
      "metadata": {
        "id": "LJn8lL5tAwSs"
      }
    },
    {
      "cell_type": "code",
      "execution_count": null,
      "metadata": {
        "id": "DZ7Q2fcnFguS"
      },
      "outputs": [],
      "source": [
        "train_n_shape = pd.read_csv(filepath + 'train_n_shape.csv', index_col = 0)"
      ]
    },
    {
      "cell_type": "code",
      "execution_count": null,
      "metadata": {
        "colab": {
          "base_uri": "https://localhost:8080/",
          "height": 206
        },
        "id": "wURFS24LFeEF",
        "outputId": "68c9b36d-d9b4-4d55-cd82-0546e8c85397"
      },
      "outputs": [
        {
          "data": {
            "text/html": [
              "\n",
              "  <div id=\"df-2dd7ed6c-d950-4bd0-b91d-515161acb6c6\">\n",
              "    <div class=\"colab-df-container\">\n",
              "      <div>\n",
              "<style scoped>\n",
              "    .dataframe tbody tr th:only-of-type {\n",
              "        vertical-align: middle;\n",
              "    }\n",
              "\n",
              "    .dataframe tbody tr th {\n",
              "        vertical-align: top;\n",
              "    }\n",
              "\n",
              "    .dataframe thead th {\n",
              "        text-align: right;\n",
              "    }\n",
              "</style>\n",
              "<table border=\"1\" class=\"dataframe\">\n",
              "  <thead>\n",
              "    <tr style=\"text-align: right;\">\n",
              "      <th></th>\n",
              "      <th>FILENAME</th>\n",
              "      <th>IDENTITY</th>\n",
              "      <th>height</th>\n",
              "      <th>width</th>\n",
              "      <th>dim</th>\n",
              "      <th>cluster</th>\n",
              "    </tr>\n",
              "  </thead>\n",
              "  <tbody>\n",
              "    <tr>\n",
              "      <th>0</th>\n",
              "      <td>TRAIN_00006.jpg</td>\n",
              "      <td>lucie</td>\n",
              "      <td>31</td>\n",
              "      <td>284</td>\n",
              "      <td>3</td>\n",
              "      <td>0</td>\n",
              "    </tr>\n",
              "    <tr>\n",
              "      <th>1</th>\n",
              "      <td>TRAIN_00011.jpg</td>\n",
              "      <td>emma</td>\n",
              "      <td>44</td>\n",
              "      <td>324</td>\n",
              "      <td>3</td>\n",
              "      <td>1</td>\n",
              "    </tr>\n",
              "    <tr>\n",
              "      <th>2</th>\n",
              "      <td>TRAIN_00020.jpg</td>\n",
              "      <td>romain</td>\n",
              "      <td>44</td>\n",
              "      <td>324</td>\n",
              "      <td>3</td>\n",
              "      <td>1</td>\n",
              "    </tr>\n",
              "    <tr>\n",
              "      <th>3</th>\n",
              "      <td>TRAIN_00027.jpg</td>\n",
              "      <td>thomas</td>\n",
              "      <td>44</td>\n",
              "      <td>324</td>\n",
              "      <td>3</td>\n",
              "      <td>1</td>\n",
              "    </tr>\n",
              "    <tr>\n",
              "      <th>4</th>\n",
              "      <td>TRAIN_00069.jpg</td>\n",
              "      <td>ines</td>\n",
              "      <td>23</td>\n",
              "      <td>388</td>\n",
              "      <td>3</td>\n",
              "      <td>2</td>\n",
              "    </tr>\n",
              "  </tbody>\n",
              "</table>\n",
              "</div>\n",
              "      <button class=\"colab-df-convert\" onclick=\"convertToInteractive('df-2dd7ed6c-d950-4bd0-b91d-515161acb6c6')\"\n",
              "              title=\"Convert this dataframe to an interactive table.\"\n",
              "              style=\"display:none;\">\n",
              "        \n",
              "  <svg xmlns=\"http://www.w3.org/2000/svg\" height=\"24px\"viewBox=\"0 0 24 24\"\n",
              "       width=\"24px\">\n",
              "    <path d=\"M0 0h24v24H0V0z\" fill=\"none\"/>\n",
              "    <path d=\"M18.56 5.44l.94 2.06.94-2.06 2.06-.94-2.06-.94-.94-2.06-.94 2.06-2.06.94zm-11 1L8.5 8.5l.94-2.06 2.06-.94-2.06-.94L8.5 2.5l-.94 2.06-2.06.94zm10 10l.94 2.06.94-2.06 2.06-.94-2.06-.94-.94-2.06-.94 2.06-2.06.94z\"/><path d=\"M17.41 7.96l-1.37-1.37c-.4-.4-.92-.59-1.43-.59-.52 0-1.04.2-1.43.59L10.3 9.45l-7.72 7.72c-.78.78-.78 2.05 0 2.83L4 21.41c.39.39.9.59 1.41.59.51 0 1.02-.2 1.41-.59l7.78-7.78 2.81-2.81c.8-.78.8-2.07 0-2.86zM5.41 20L4 18.59l7.72-7.72 1.47 1.35L5.41 20z\"/>\n",
              "  </svg>\n",
              "      </button>\n",
              "      \n",
              "  <style>\n",
              "    .colab-df-container {\n",
              "      display:flex;\n",
              "      flex-wrap:wrap;\n",
              "      gap: 12px;\n",
              "    }\n",
              "\n",
              "    .colab-df-convert {\n",
              "      background-color: #E8F0FE;\n",
              "      border: none;\n",
              "      border-radius: 50%;\n",
              "      cursor: pointer;\n",
              "      display: none;\n",
              "      fill: #1967D2;\n",
              "      height: 32px;\n",
              "      padding: 0 0 0 0;\n",
              "      width: 32px;\n",
              "    }\n",
              "\n",
              "    .colab-df-convert:hover {\n",
              "      background-color: #E2EBFA;\n",
              "      box-shadow: 0px 1px 2px rgba(60, 64, 67, 0.3), 0px 1px 3px 1px rgba(60, 64, 67, 0.15);\n",
              "      fill: #174EA6;\n",
              "    }\n",
              "\n",
              "    [theme=dark] .colab-df-convert {\n",
              "      background-color: #3B4455;\n",
              "      fill: #D2E3FC;\n",
              "    }\n",
              "\n",
              "    [theme=dark] .colab-df-convert:hover {\n",
              "      background-color: #434B5C;\n",
              "      box-shadow: 0px 1px 3px 1px rgba(0, 0, 0, 0.15);\n",
              "      filter: drop-shadow(0px 1px 2px rgba(0, 0, 0, 0.3));\n",
              "      fill: #FFFFFF;\n",
              "    }\n",
              "  </style>\n",
              "\n",
              "      <script>\n",
              "        const buttonEl =\n",
              "          document.querySelector('#df-2dd7ed6c-d950-4bd0-b91d-515161acb6c6 button.colab-df-convert');\n",
              "        buttonEl.style.display =\n",
              "          google.colab.kernel.accessAllowed ? 'block' : 'none';\n",
              "\n",
              "        async function convertToInteractive(key) {\n",
              "          const element = document.querySelector('#df-2dd7ed6c-d950-4bd0-b91d-515161acb6c6');\n",
              "          const dataTable =\n",
              "            await google.colab.kernel.invokeFunction('convertToInteractive',\n",
              "                                                     [key], {});\n",
              "          if (!dataTable) return;\n",
              "\n",
              "          const docLinkHtml = 'Like what you see? Visit the ' +\n",
              "            '<a target=\"_blank\" href=https://colab.research.google.com/notebooks/data_table.ipynb>data table notebook</a>'\n",
              "            + ' to learn more about interactive tables.';\n",
              "          element.innerHTML = '';\n",
              "          dataTable['output_type'] = 'display_data';\n",
              "          await google.colab.output.renderOutput(dataTable, element);\n",
              "          const docLink = document.createElement('div');\n",
              "          docLink.innerHTML = docLinkHtml;\n",
              "          element.appendChild(docLink);\n",
              "        }\n",
              "      </script>\n",
              "    </div>\n",
              "  </div>\n",
              "  "
            ],
            "text/plain": [
              "          FILENAME IDENTITY  height  width  dim  cluster\n",
              "0  TRAIN_00006.jpg    lucie      31    284    3        0\n",
              "1  TRAIN_00011.jpg     emma      44    324    3        1\n",
              "2  TRAIN_00020.jpg   romain      44    324    3        1\n",
              "3  TRAIN_00027.jpg   thomas      44    324    3        1\n",
              "4  TRAIN_00069.jpg     ines      23    388    3        2"
            ]
          },
          "execution_count": 48,
          "metadata": {},
          "output_type": "execute_result"
        }
      ],
      "source": [
        "train_n_shape.head()"
      ]
    },
    {
      "cell_type": "code",
      "execution_count": null,
      "metadata": {
        "colab": {
          "base_uri": "https://localhost:8080/"
        },
        "id": "39F1P_1gHUSx",
        "outputId": "88ff6ffd-6102-4a6b-bcee-19cdc5550342"
      },
      "outputs": [
        {
          "data": {
            "text/plain": [
              "cluster\n",
              " 2    11599\n",
              " 1     9409\n",
              " 0     7228\n",
              " 3     6069\n",
              "-1        1\n",
              "dtype: int64"
            ]
          },
          "execution_count": 50,
          "metadata": {},
          "output_type": "execute_result"
        }
      ],
      "source": [
        "train_n_shape.value_counts('cluster')"
      ]
    },
    {
      "cell_type": "code",
      "execution_count": null,
      "metadata": {
        "colab": {
          "base_uri": "https://localhost:8080/",
          "height": 155
        },
        "id": "TooriCOIIWRE",
        "outputId": "da148abb-ff53-41ab-f384-25678faff541"
      },
      "outputs": [
        {
          "data": {
            "text/plain": [
              "<matplotlib.image.AxesImage at 0x7fa365a59990>"
            ]
          },
          "execution_count": 97,
          "metadata": {},
          "output_type": "execute_result"
        },
        {
          "data": {
            "image/png": "[encoded data removed]",
            "text/plain": [
              "<Figure size 432x288 with 1 Axes>"
            ]
          },
          "metadata": {},
          "output_type": "display_data"
        }
      ],
      "source": [
        "img_path = file_path_train + 'TRAIN_70176.jpg'\n",
        "img = cv2.imread(img_path).copy()\n",
        "cv2.rectangle(img, (30, 30), (140, 55), (0,255,0),1) #Second tuple - left up (x, y); third tuple - right bottom (x, y)\n",
        "plt.imshow(img)"
      ]
    },
    {
      "cell_type": "code",
      "execution_count": null,
      "metadata": {
        "colab": {
          "base_uri": "https://localhost:8080/",
          "height": 105
        },
        "id": "0_ZWpjiMMeCB",
        "outputId": "bf424311-7d9e-4285-e63f-1b2dcbdaf8f2"
      },
      "outputs": [
        {
          "data": {
            "text/plain": [
              "<matplotlib.image.AxesImage at 0x7fa365808650>"
            ]
          },
          "execution_count": 103,
          "metadata": {},
          "output_type": "execute_result"
        },
        {
          "data": {
            "image/png": "[encoded data removed]",
            "text/plain": [
              "<Figure size 432x288 with 1 Axes>"
            ]
          },
          "metadata": {},
          "output_type": "display_data"
        }
      ],
      "source": [
        "img0 = cluster_avg[1].copy()\n",
        "cv2.rectangle(img0, (10, 5), (170, 28), (0,255,0),1) #Second tuple - left up (x, y); third tuple - right bottom (x, y)\n",
        "plt.imshow(img0, cmap = 'gray')"
      ]
    },
    {
      "cell_type": "code",
      "execution_count": null,
      "metadata": {
        "colab": {
          "base_uri": "https://localhost:8080/",
          "height": 114
        },
        "id": "kMhXde_jNTCN",
        "outputId": "e6256d02-5af2-4a32-e149-97e10cdfd9bf"
      },
      "outputs": [
        {
          "data": {
            "text/plain": [
              "<matplotlib.image.AxesImage at 0x7fa36527abd0>"
            ]
          },
          "execution_count": 110,
          "metadata": {},
          "output_type": "execute_result"
        },
        {
          "data": {
            "image/png": "[encoded data removed]",
            "text/plain": [
              "<Figure size 432x288 with 1 Axes>"
            ]
          },
          "metadata": {},
          "output_type": "display_data"
        }
      ],
      "source": [
        "img1 = cluster_avg[2].copy()\n",
        "cv2.rectangle(img1, (0, 10), (200, 35), (0,255,0),1) #Second tuple - left up (x, y); third tuple - right bottom (x, y)\n",
        "plt.imshow(img1, cmap = 'gray')"
      ]
    },
    {
      "cell_type": "code",
      "execution_count": null,
      "metadata": {
        "colab": {
          "base_uri": "https://localhost:8080/",
          "height": 100
        },
        "id": "9ay4_krWNiZU",
        "outputId": "487e2c16-6c7e-4724-dc02-37b79da4d38f"
      },
      "outputs": [
        {
          "data": {
            "text/plain": [
              "<matplotlib.image.AxesImage at 0x7fa34d1d7650>"
            ]
          },
          "execution_count": 113,
          "metadata": {},
          "output_type": "execute_result"
        },
        {
          "data": {
            "image/png": "[encoded data removed]",
            "text/plain": [
              "<Figure size 432x288 with 1 Axes>"
            ]
          },
          "metadata": {},
          "output_type": "display_data"
        }
      ],
      "source": [
        "img2 = cluster_avg[3].copy()\n",
        "cv2.rectangle(img2, (75, 0), (250, 35), (0,255,0),1) #Second tuple - left up (x, y); third tuple - right bottom (x, y)\n",
        "plt.imshow(img2, cmap = 'gray')"
      ]
    },
    {
      "cell_type": "code",
      "execution_count": null,
      "metadata": {
        "colab": {
          "base_uri": "https://localhost:8080/",
          "height": 153
        },
        "id": "hof4XnGsNuaE",
        "outputId": "41df4e65-85ac-4068-cd32-c3fd4c808a62"
      },
      "outputs": [
        {
          "data": {
            "text/plain": [
              "<matplotlib.image.AxesImage at 0x7fa364f9e5d0>"
            ]
          },
          "execution_count": 119,
          "metadata": {},
          "output_type": "execute_result"
        },
        {
          "data": {
            "image/png": "[encoded data removed]",
            "text/plain": [
              "<Figure size 432x288 with 1 Axes>"
            ]
          },
          "metadata": {},
          "output_type": "display_data"
        }
      ],
      "source": [
        "img3 = cluster_avg[4].copy()\n",
        "cv2.rectangle(img3, (25, 35), (200, 60), (0,255,0),1) #Second tuple - left up (x, y); third tuple - right bottom (x, y)\n",
        "plt.imshow(img3, cmap = 'gray')"
      ]
    },
    {
      "cell_type": "markdown",
      "metadata": {
        "id": "AHUoIjOJOD0g"
      },
      "source": [
        "Through trail and testing we concluded that the cropping boarders for the five clusers can be ([(30, 30), (140, 55)], [(10, 5), (170, 28)], [(0, 10), (200, 35)], [(75, 0), (250, 35)], [(25, 35), (200, 60)])"
      ]
    },
    {
      "cell_type": "code",
      "execution_count": null,
      "metadata": {
        "id": "ccMrnTI7ODlT"
      },
      "outputs": [],
      "source": [
        "boundary_list = [[(30, 30), (140, 55)], [(10, 5), (170, 28)], [(0, 10), (200, 35)], [(75, 0), (250, 35)], [(25, 35), (200, 60)]]"
      ]
    },
    {
      "cell_type": "code",
      "execution_count": null,
      "metadata": {
        "colab": {
          "base_uri": "https://localhost:8080/"
        },
        "id": "ZrqDu4JROkRX",
        "outputId": "9dad6921-9f28-4107-b5f2-6e71433c5c47"
      },
      "outputs": [
        {
          "data": {
            "text/plain": [
              "[[(30, 30), (140, 55)],\n",
              " [(10, 5), (170, 28)],\n",
              " [(0, 10), (200, 35)],\n",
              " [(75, 0), (250, 35)],\n",
              " [(25, 35), (200, 60)]]"
            ]
          },
          "execution_count": 20,
          "metadata": {},
          "output_type": "execute_result"
        }
      ],
      "source": [
        "boundary_list"
      ]
    },
    {
      "cell_type": "code",
      "execution_count": null,
      "metadata": {
        "colab": {
          "base_uri": "https://localhost:8080/"
        },
        "id": "gY0rGQUSOweG",
        "outputId": "7115b0b2-b7f0-451f-a845-4131883fe1da"
      },
      "outputs": [
        {
          "name": "stdout",
          "output_type": "stream",
          "text": [
            "200\n",
            "35\n"
          ]
        }
      ],
      "source": [
        "#calculate the cropped image size to decide resize for all images\n",
        "#get the largest bounding box area\n",
        "max_width = 0\n",
        "max_height = 0\n",
        "for i in boundary_list:\n",
        "  width = i[1][0] - i[0][0]\n",
        "  height = i[1][1] - i[0][1]\n",
        "  if max_width < width:\n",
        "    max_width = width\n",
        "  if max_height < height:\n",
        "    max_height = height\n",
        "print(max_width)\n",
        "print(max_height)"
      ]
    },
    {
      "cell_type": "markdown",
      "metadata": {
        "id": "R2xCSdzNQcJU"
      },
      "source": [
        "##### DBSCAN Image Cropping"
      ]
    },
    {
      "cell_type": "code",
      "execution_count": null,
      "metadata": {
        "id": "ulSr_mGkQbhh"
      },
      "outputs": [],
      "source": [
        "total=[]\n",
        "crop_boxes = []\n",
        "for i in range(0,len(train)):\n",
        "  img_dir =  file_path_train+train_n_shape.loc[i, 'FILENAME']\n",
        "  srcImage = Image.open(img_dir)\n",
        "  cluster = train_n_shape.loc[i, 'cluster']\n",
        "  image_bx = srcImage.width\n",
        "  image_by = srcImage.height\n",
        "  bx = min(boundary_list[cluster+1][1][0], image_bx) \n",
        "  by = min(boundary_list[cluster+1][1][1], image_by) #Take image boundary if crop boundary larger than size\n",
        "  crop_box =  boundary_list[cluster+1][0] + (bx, by)\n",
        "  crop_boxes.append(crop_box)\n",
        "  srcImage = srcImage.crop(crop_box)\n",
        "  srcImage = srcImage.resize((200,35))\n",
        "  grayImage = srcImage.convert('L')\n",
        "  binarizedImage = grayImage.point(lambda x: 0 if x<200 else 1, '1')\n",
        "  pixel = list(binarizedImage.getdata())\n",
        "  total.append(pixel)"
      ]
    },
    {
      "cell_type": "code",
      "execution_count": null,
      "metadata": {
        "id": "f7fQMIA3Vj5Z"
      },
      "outputs": [],
      "source": [
        "df_cropped = pd.DataFrame(total)"
      ]
    },
    {
      "cell_type": "code",
      "execution_count": null,
      "metadata": {
        "id": "asquYh8icpyN"
      },
      "outputs": [],
      "source": [
        "df_cropped['IDENTITY'] = train_n_shape.IDENTITY"
      ]
    },
    {
      "cell_type": "code",
      "execution_count": null,
      "metadata": {
        "id": "MjsCvezvVwH0"
      },
      "outputs": [],
      "source": [
        "#df_cropped.to_csv(filepath + 'df_cropped.csv')"
      ]
    },
    {
      "cell_type": "markdown",
      "metadata": {
        "id": "5NbyrkXKHg88"
      },
      "source": [
        "### OCR on train"
      ]
    },
    {
      "cell_type": "code",
      "execution_count": null,
      "metadata": {
        "id": "3-HVjy_fqKxf"
      },
      "outputs": [],
      "source": [
        "train_n_shape = pd.read_csv(filepath + 'train_n_shape.csv', index_col = 0)"
      ]
    },
    {
      "cell_type": "code",
      "execution_count": null,
      "metadata": {
        "id": "0kQDa2n2iNUN"
      },
      "outputs": [],
      "source": [
        "all_text = []\n",
        "for i in range(train_n_shape.shape[0]):\n",
        "  org_image_dir =  file_path_train+train_n_shape.loc[i, 'FILENAME']\n",
        "  org_image = Image.open(org_image_dir)\n",
        "  crop_dim = crop_boxes[i]\n",
        "  crop_img = org_image.crop(crop_dim)\n",
        "  pred_text = pytesseract.image_to_string(crop_img)\n",
        "  all_text.append(pred_text)"
      ]
    },
    {
      "cell_type": "code",
      "execution_count": null,
      "metadata": {
        "id": "HKqQnkFlivqv"
      },
      "outputs": [],
      "source": [
        "df_ocr = pd.DataFrame(all_text)"
      ]
    },
    {
      "cell_type": "code",
      "execution_count": null,
      "metadata": {
        "id": "6s2EgTSewC97"
      },
      "outputs": [],
      "source": [
        "df_ocr.to_csv(filepath + 'df_ocr.csv')"
      ]
    },
    {
      "cell_type": "markdown",
      "metadata": {
        "id": "xy92u3EBemOX"
      },
      "source": [
        "### Loading Results"
      ]
    },
    {
      "cell_type": "code",
      "source": [
        "#filepath = '/content/drive/My Drive/ML/Data/Handwriting/'\n",
        "filepath = '/content/drive/My Drive/MSCA_ML/Final_Project/Data/Handwriting/'\n",
        "\n",
        "file_path_train = '/content/handwriting-recognition/train_v2/train/'\n",
        "file_path_test = '/content/handwriting-recognition/test_v2/test/'\n",
        "file_path_valid = '/content/handwriting-recognition/validation_v2/validation/'"
      ],
      "metadata": {
        "id": "EB0frAmq9SkP"
      },
      "execution_count": null,
      "outputs": []
    },
    {
      "cell_type": "code",
      "source": [
        "import pandas as pd \n",
        "original = pd.read_csv(filepath + 'train_n_shape.csv', index_col = 0)\n",
        "result =  pd.read_csv(filepath + 'df_ocr.csv', index_col = 0)"
      ],
      "metadata": {
        "id": "9q8YyAUCgHeD"
      },
      "execution_count": null,
      "outputs": []
    },
    {
      "cell_type": "markdown",
      "source": [
        "### Dataframe Compiling"
      ],
      "metadata": {
        "id": "gsOJIiwqIE3N"
      }
    },
    {
      "cell_type": "code",
      "source": [
        "ocr_result = pd.DataFrame(columns = ['true_value', 'pred_value'])\n",
        "ocr_result['true_value'] = original.IDENTITY\n",
        "ocr_result['pred_value'] = result\n",
        "ocr_result['pred_value'] = ocr_result.pred_value.str.lower()"
      ],
      "metadata": {
        "id": "7zmjM0pgIG5V"
      },
      "execution_count": null,
      "outputs": []
    },
    {
      "cell_type": "markdown",
      "source": [
        "### Result Accuracy"
      ],
      "metadata": {
        "id": "QG7Or9kHf4oF"
      }
    },
    {
      "cell_type": "markdown",
      "source": [
        "#### Train"
      ],
      "metadata": {
        "id": "K_axiMRzNXr-"
      }
    },
    {
      "cell_type": "markdown",
      "source": [
        "Since there exists empty value, we fill the nulls with empty lists."
      ],
      "metadata": {
        "id": "jEF2q00-TS-i"
      }
    },
    {
      "cell_type": "code",
      "source": [
        "ocr_result = ocr_result.fillna('')"
      ],
      "metadata": {
        "id": "7dNVOiZzL3Xg"
      },
      "execution_count": null,
      "outputs": []
    },
    {
      "cell_type": "markdown",
      "source": [
        "Calculating correct rate for prediction and for character in prediction"
      ],
      "metadata": {
        "id": "QsVxSQX05YxQ"
      }
    },
    {
      "cell_type": "code",
      "source": [
        "correct_char = 0\n",
        "correct_pred = 0\n",
        "total_char = 0\n",
        "\n",
        "for i in range(ocr_result.shape[0]):\n",
        "    true_name = ocr_result.loc[i, 'true_value']\n",
        "    pred_name = ocr_result.loc[i, 'pred_value']\n",
        "    total_char += len(true_name)\n",
        "    \n",
        "    for j in range(min(len(true_name), len(pred_name))):\n",
        "        if pred_name[j] == true_name[j]:\n",
        "            correct_char += 1\n",
        "            \n",
        "    if true_name == pred_name :\n",
        "        correct_pred += 1 "
      ],
      "metadata": {
        "id": "kTcsePC0H6DB"
      },
      "execution_count": null,
      "outputs": []
    },
    {
      "cell_type": "code",
      "source": [
        "#Total correct rate\n",
        "correct_pred/ocr_result.shape[0] * 100"
      ],
      "metadata": {
        "colab": {
          "base_uri": "https://localhost:8080/"
        },
        "id": "Shxx57wGM0So",
        "outputId": "61fbe949-fe05-488c-8016-b8b473488cae"
      },
      "execution_count": null,
      "outputs": [
        {
          "output_type": "execute_result",
          "data": {
            "text/plain": [
              "39.01941351367108"
            ]
          },
          "metadata": {},
          "execution_count": 50
        }
      ]
    },
    {
      "cell_type": "code",
      "source": [
        "#Char correct rate\n",
        "correct_char/ total_char * 100"
      ],
      "metadata": {
        "colab": {
          "base_uri": "https://localhost:8080/"
        },
        "id": "_KIfIeWUM1Fn",
        "outputId": "d71408c4-abc0-4312-d10f-6b1b0d9c17cf"
      },
      "execution_count": null,
      "outputs": [
        {
          "output_type": "execute_result",
          "data": {
            "text/plain": [
              "64.2607998613458"
            ]
          },
          "metadata": {},
          "execution_count": 49
        }
      ]
    },
    {
      "cell_type": "markdown",
      "source": [
        "#### Test"
      ],
      "metadata": {
        "id": "H9xZVPjYOPvH"
      }
    },
    {
      "cell_type": "code",
      "source": [
        "test_n_shape = pd.read_csv(filepath + 'test_n_shape.csv', index_col = 0)"
      ],
      "metadata": {
        "id": "v6I7ZfXJOfem"
      },
      "execution_count": null,
      "outputs": []
    },
    {
      "cell_type": "code",
      "source": [
        "kmeans_boundary_list = [[(75, 0), (250, 35)], [(0, 10), (200, 40)], [(0, 0), (200, 40)], [(25, 35), (175, 65)]]"
      ],
      "metadata": {
        "id": "SglI2rAgO4xy"
      },
      "execution_count": null,
      "outputs": []
    },
    {
      "cell_type": "code",
      "source": [
        "test_n_shape.head()"
      ],
      "metadata": {
        "colab": {
          "base_uri": "https://localhost:8080/",
          "height": 206
        },
        "id": "uMpff36WQpZX",
        "outputId": "1a3e6814-6f7e-4413-8ed3-2c480896fc9e"
      },
      "execution_count": null,
      "outputs": [
        {
          "output_type": "execute_result",
          "data": {
            "text/plain": [
              "              FILENAME IDENTITY  height  width  dim  km_cluser\n",
              "0  VALIDATION_0003.jpg      lea      31    284    3          1\n",
              "1  VALIDATION_0016.jpg  antoine      31    284    3          1\n",
              "2  VALIDATION_0022.jpg   mathis      44    324    3          2\n",
              "3  VALIDATION_0032.jpg     hugo      30    388    3          0\n",
              "4  VALIDATION_0039.jpg  clement      31    284    3          1"
            ],
            "text/html": [
              "\n",
              "  <div id=\"df-d679d24a-e750-4e47-bfae-def24b5cf930\">\n",
              "    <div class=\"colab-df-container\">\n",
              "      <div>\n",
              "<style scoped>\n",
              "    .dataframe tbody tr th:only-of-type {\n",
              "        vertical-align: middle;\n",
              "    }\n",
              "\n",
              "    .dataframe tbody tr th {\n",
              "        vertical-align: top;\n",
              "    }\n",
              "\n",
              "    .dataframe thead th {\n",
              "        text-align: right;\n",
              "    }\n",
              "</style>\n",
              "<table border=\"1\" class=\"dataframe\">\n",
              "  <thead>\n",
              "    <tr style=\"text-align: right;\">\n",
              "      <th></th>\n",
              "      <th>FILENAME</th>\n",
              "      <th>IDENTITY</th>\n",
              "      <th>height</th>\n",
              "      <th>width</th>\n",
              "      <th>dim</th>\n",
              "      <th>km_cluser</th>\n",
              "    </tr>\n",
              "  </thead>\n",
              "  <tbody>\n",
              "    <tr>\n",
              "      <th>0</th>\n",
              "      <td>VALIDATION_0003.jpg</td>\n",
              "      <td>lea</td>\n",
              "      <td>31</td>\n",
              "      <td>284</td>\n",
              "      <td>3</td>\n",
              "      <td>1</td>\n",
              "    </tr>\n",
              "    <tr>\n",
              "      <th>1</th>\n",
              "      <td>VALIDATION_0016.jpg</td>\n",
              "      <td>antoine</td>\n",
              "      <td>31</td>\n",
              "      <td>284</td>\n",
              "      <td>3</td>\n",
              "      <td>1</td>\n",
              "    </tr>\n",
              "    <tr>\n",
              "      <th>2</th>\n",
              "      <td>VALIDATION_0022.jpg</td>\n",
              "      <td>mathis</td>\n",
              "      <td>44</td>\n",
              "      <td>324</td>\n",
              "      <td>3</td>\n",
              "      <td>2</td>\n",
              "    </tr>\n",
              "    <tr>\n",
              "      <th>3</th>\n",
              "      <td>VALIDATION_0032.jpg</td>\n",
              "      <td>hugo</td>\n",
              "      <td>30</td>\n",
              "      <td>388</td>\n",
              "      <td>3</td>\n",
              "      <td>0</td>\n",
              "    </tr>\n",
              "    <tr>\n",
              "      <th>4</th>\n",
              "      <td>VALIDATION_0039.jpg</td>\n",
              "      <td>clement</td>\n",
              "      <td>31</td>\n",
              "      <td>284</td>\n",
              "      <td>3</td>\n",
              "      <td>1</td>\n",
              "    </tr>\n",
              "  </tbody>\n",
              "</table>\n",
              "</div>\n",
              "      <button class=\"colab-df-convert\" onclick=\"convertToInteractive('df-d679d24a-e750-4e47-bfae-def24b5cf930')\"\n",
              "              title=\"Convert this dataframe to an interactive table.\"\n",
              "              style=\"display:none;\">\n",
              "        \n",
              "  <svg xmlns=\"http://www.w3.org/2000/svg\" height=\"24px\"viewBox=\"0 0 24 24\"\n",
              "       width=\"24px\">\n",
              "    <path d=\"M0 0h24v24H0V0z\" fill=\"none\"/>\n",
              "    <path d=\"M18.56 5.44l.94 2.06.94-2.06 2.06-.94-2.06-.94-.94-2.06-.94 2.06-2.06.94zm-11 1L8.5 8.5l.94-2.06 2.06-.94-2.06-.94L8.5 2.5l-.94 2.06-2.06.94zm10 10l.94 2.06.94-2.06 2.06-.94-2.06-.94-.94-2.06-.94 2.06-2.06.94z\"/><path d=\"M17.41 7.96l-1.37-1.37c-.4-.4-.92-.59-1.43-.59-.52 0-1.04.2-1.43.59L10.3 9.45l-7.72 7.72c-.78.78-.78 2.05 0 2.83L4 21.41c.39.39.9.59 1.41.59.51 0 1.02-.2 1.41-.59l7.78-7.78 2.81-2.81c.8-.78.8-2.07 0-2.86zM5.41 20L4 18.59l7.72-7.72 1.47 1.35L5.41 20z\"/>\n",
              "  </svg>\n",
              "      </button>\n",
              "      \n",
              "  <style>\n",
              "    .colab-df-container {\n",
              "      display:flex;\n",
              "      flex-wrap:wrap;\n",
              "      gap: 12px;\n",
              "    }\n",
              "\n",
              "    .colab-df-convert {\n",
              "      background-color: #E8F0FE;\n",
              "      border: none;\n",
              "      border-radius: 50%;\n",
              "      cursor: pointer;\n",
              "      display: none;\n",
              "      fill: #1967D2;\n",
              "      height: 32px;\n",
              "      padding: 0 0 0 0;\n",
              "      width: 32px;\n",
              "    }\n",
              "\n",
              "    .colab-df-convert:hover {\n",
              "      background-color: #E2EBFA;\n",
              "      box-shadow: 0px 1px 2px rgba(60, 64, 67, 0.3), 0px 1px 3px 1px rgba(60, 64, 67, 0.15);\n",
              "      fill: #174EA6;\n",
              "    }\n",
              "\n",
              "    [theme=dark] .colab-df-convert {\n",
              "      background-color: #3B4455;\n",
              "      fill: #D2E3FC;\n",
              "    }\n",
              "\n",
              "    [theme=dark] .colab-df-convert:hover {\n",
              "      background-color: #434B5C;\n",
              "      box-shadow: 0px 1px 3px 1px rgba(0, 0, 0, 0.15);\n",
              "      filter: drop-shadow(0px 1px 2px rgba(0, 0, 0, 0.3));\n",
              "      fill: #FFFFFF;\n",
              "    }\n",
              "  </style>\n",
              "\n",
              "      <script>\n",
              "        const buttonEl =\n",
              "          document.querySelector('#df-d679d24a-e750-4e47-bfae-def24b5cf930 button.colab-df-convert');\n",
              "        buttonEl.style.display =\n",
              "          google.colab.kernel.accessAllowed ? 'block' : 'none';\n",
              "\n",
              "        async function convertToInteractive(key) {\n",
              "          const element = document.querySelector('#df-d679d24a-e750-4e47-bfae-def24b5cf930');\n",
              "          const dataTable =\n",
              "            await google.colab.kernel.invokeFunction('convertToInteractive',\n",
              "                                                     [key], {});\n",
              "          if (!dataTable) return;\n",
              "\n",
              "          const docLinkHtml = 'Like what you see? Visit the ' +\n",
              "            '<a target=\"_blank\" href=https://colab.research.google.com/notebooks/data_table.ipynb>data table notebook</a>'\n",
              "            + ' to learn more about interactive tables.';\n",
              "          element.innerHTML = '';\n",
              "          dataTable['output_type'] = 'display_data';\n",
              "          await google.colab.output.renderOutput(dataTable, element);\n",
              "          const docLink = document.createElement('div');\n",
              "          docLink.innerHTML = docLinkHtml;\n",
              "          element.appendChild(docLink);\n",
              "        }\n",
              "      </script>\n",
              "    </div>\n",
              "  </div>\n",
              "  "
            ]
          },
          "metadata": {},
          "execution_count": 20
        }
      ]
    },
    {
      "cell_type": "code",
      "source": [
        "test_text = []\n",
        "for i in range(test_n_shape.shape[0]):\n",
        "  org_image_dir =  file_path_valid+test_n_shape.loc[i, 'FILENAME']\n",
        "  org_image = Image.open(org_image_dir)\n",
        "  cluster_num = test_n_shape.loc[i, 'km_cluser']\n",
        "  crop_dim = kmeans_boundary_list[cluster_num]\n",
        "  crop_img = org_image.crop(crop_dim[0] + crop_dim[1])\n",
        "  pred_text = pytesseract.image_to_string(crop_img)\n",
        "  test_text.append(pred_text.strip())"
      ],
      "metadata": {
        "id": "l9_KYPaBOjF1"
      },
      "execution_count": null,
      "outputs": []
    },
    {
      "cell_type": "code",
      "source": [
        "original_test = test_n_shape.IDENTITY"
      ],
      "metadata": {
        "id": "t1CLW-NLQuvJ"
      },
      "execution_count": null,
      "outputs": []
    },
    {
      "cell_type": "code",
      "source": [
        "test_text = list(map(lambda x: x.lower(), test_text))"
      ],
      "metadata": {
        "id": "9viD4mmNUDs1"
      },
      "execution_count": null,
      "outputs": []
    },
    {
      "cell_type": "code",
      "source": [
        "ocr_result_test = pd.DataFrame(columns = ['true_value', 'pred_value'])\n",
        "ocr_result_test['true_value'] = original_test\n",
        "ocr_result_test['pred_value'] = test_text"
      ],
      "metadata": {
        "id": "tiXml273UsAY"
      },
      "execution_count": null,
      "outputs": []
    },
    {
      "cell_type": "code",
      "source": [
        "ocr_result_test = ocr_result_test.fillna('')"
      ],
      "metadata": {
        "id": "-muvy9fTU2Gx"
      },
      "execution_count": null,
      "outputs": []
    },
    {
      "cell_type": "code",
      "source": [
        "correct_char = 0\n",
        "correct_pred = 0\n",
        "total_char = 0\n",
        "\n",
        "for i in range(ocr_result_test.shape[0]):\n",
        "    true_name = ocr_result_test.loc[i, 'true_value']\n",
        "    pred_name = ocr_result_test.loc[i, 'pred_value']\n",
        "    total_char += len(true_name)\n",
        "    \n",
        "    for j in range(min(len(true_name), len(pred_name))):\n",
        "        if pred_name[j] == true_name[j]:\n",
        "            correct_char += 1\n",
        "            \n",
        "    if true_name == pred_name :\n",
        "        correct_pred += 1 "
      ],
      "metadata": {
        "id": "E39kMt_SUGDB"
      },
      "execution_count": null,
      "outputs": []
    },
    {
      "cell_type": "code",
      "source": [
        "ocr_result_test.to_csv('df_ocr_test.csv')"
      ],
      "metadata": {
        "id": "ZV8TvRBVU_Nw"
      },
      "execution_count": null,
      "outputs": []
    },
    {
      "cell_type": "code",
      "source": [
        "#Total correct rate\n",
        "correct_pred/ocr_result_test.shape[0] * 100"
      ],
      "metadata": {
        "colab": {
          "base_uri": "https://localhost:8080/"
        },
        "id": "RE6RKkVkU7S2",
        "outputId": "7e370ae3-09eb-40cd-b041-f71645c3a07e"
      },
      "execution_count": null,
      "outputs": [
        {
          "output_type": "execute_result",
          "data": {
            "text/plain": [
              "30.311418685121104"
            ]
          },
          "metadata": {},
          "execution_count": 40
        }
      ]
    },
    {
      "cell_type": "code",
      "source": [
        "#Char correct rate\n",
        "correct_char/ total_char * 100"
      ],
      "metadata": {
        "colab": {
          "base_uri": "https://localhost:8080/"
        },
        "id": "wzEMeb5AU9Eh",
        "outputId": "1b688814-e3a2-49e7-e3bd-3cbf5936ee64"
      },
      "execution_count": null,
      "outputs": [
        {
          "output_type": "execute_result",
          "data": {
            "text/plain": [
              "54.260474291350405"
            ]
          },
          "metadata": {},
          "execution_count": 42
        }
      ]
    },
    {
      "cell_type": "markdown",
      "source": [
        "### Visualization"
      ],
      "metadata": {
        "id": "JHQYfMYEGZTC"
      }
    },
    {
      "cell_type": "code",
      "source": [
        "#ocr_result_test = pd.read_csv(filepath + 'df_ocr_test.csv')"
      ],
      "metadata": {
        "id": "j6keOIePGbCM"
      },
      "execution_count": null,
      "outputs": []
    },
    {
      "cell_type": "code",
      "source": [
        "result['actual_identity'] = original.IDENTITY"
      ],
      "metadata": {
        "id": "qHyWFVg_QaLu"
      },
      "execution_count": null,
      "outputs": []
    },
    {
      "cell_type": "code",
      "source": [
        "result.rename(columns = {'0':'prediction'}, inplace = True)"
      ],
      "metadata": {
        "id": "dAP3wZgeR8Om"
      },
      "execution_count": null,
      "outputs": []
    },
    {
      "cell_type": "code",
      "source": [
        "result.head(10)"
      ],
      "metadata": {
        "colab": {
          "base_uri": "https://localhost:8080/",
          "height": 363
        },
        "id": "tIy7wn4WRI0D",
        "outputId": "e384e3f3-035e-4365-c906-263bcd11185d"
      },
      "execution_count": null,
      "outputs": [
        {
          "output_type": "execute_result",
          "data": {
            "text/plain": [
              "              prediction actual_identity\n",
              "0                 Lcocie           lucie\n",
              "1                   EWWG            emma\n",
              "2               Rom4i yw          romain\n",
              "3                 THOMAS          thomas\n",
              "4                  SAG S            ines\n",
              "5                Antorne         antoine\n",
              "6                   ENZO            enzo\n",
              "7                THeMmAs          thomas\n",
              "8                    NaN            theo\n",
              "9  EMMA\\n\\nSas oe Sta as            emma"
            ],
            "text/html": [
              "\n",
              "  <div id=\"df-26ab07a9-d7ce-4bc9-9853-83f6b693e049\">\n",
              "    <div class=\"colab-df-container\">\n",
              "      <div>\n",
              "<style scoped>\n",
              "    .dataframe tbody tr th:only-of-type {\n",
              "        vertical-align: middle;\n",
              "    }\n",
              "\n",
              "    .dataframe tbody tr th {\n",
              "        vertical-align: top;\n",
              "    }\n",
              "\n",
              "    .dataframe thead th {\n",
              "        text-align: right;\n",
              "    }\n",
              "</style>\n",
              "<table border=\"1\" class=\"dataframe\">\n",
              "  <thead>\n",
              "    <tr style=\"text-align: right;\">\n",
              "      <th></th>\n",
              "      <th>prediction</th>\n",
              "      <th>actual_identity</th>\n",
              "    </tr>\n",
              "  </thead>\n",
              "  <tbody>\n",
              "    <tr>\n",
              "      <th>0</th>\n",
              "      <td>Lcocie</td>\n",
              "      <td>lucie</td>\n",
              "    </tr>\n",
              "    <tr>\n",
              "      <th>1</th>\n",
              "      <td>EWWG</td>\n",
              "      <td>emma</td>\n",
              "    </tr>\n",
              "    <tr>\n",
              "      <th>2</th>\n",
              "      <td>Rom4i yw</td>\n",
              "      <td>romain</td>\n",
              "    </tr>\n",
              "    <tr>\n",
              "      <th>3</th>\n",
              "      <td>THOMAS</td>\n",
              "      <td>thomas</td>\n",
              "    </tr>\n",
              "    <tr>\n",
              "      <th>4</th>\n",
              "      <td>SAG S</td>\n",
              "      <td>ines</td>\n",
              "    </tr>\n",
              "    <tr>\n",
              "      <th>5</th>\n",
              "      <td>Antorne</td>\n",
              "      <td>antoine</td>\n",
              "    </tr>\n",
              "    <tr>\n",
              "      <th>6</th>\n",
              "      <td>ENZO</td>\n",
              "      <td>enzo</td>\n",
              "    </tr>\n",
              "    <tr>\n",
              "      <th>7</th>\n",
              "      <td>THeMmAs</td>\n",
              "      <td>thomas</td>\n",
              "    </tr>\n",
              "    <tr>\n",
              "      <th>8</th>\n",
              "      <td>NaN</td>\n",
              "      <td>theo</td>\n",
              "    </tr>\n",
              "    <tr>\n",
              "      <th>9</th>\n",
              "      <td>EMMA\\n\\nSas oe Sta as</td>\n",
              "      <td>emma</td>\n",
              "    </tr>\n",
              "  </tbody>\n",
              "</table>\n",
              "</div>\n",
              "      <button class=\"colab-df-convert\" onclick=\"convertToInteractive('df-26ab07a9-d7ce-4bc9-9853-83f6b693e049')\"\n",
              "              title=\"Convert this dataframe to an interactive table.\"\n",
              "              style=\"display:none;\">\n",
              "        \n",
              "  <svg xmlns=\"http://www.w3.org/2000/svg\" height=\"24px\"viewBox=\"0 0 24 24\"\n",
              "       width=\"24px\">\n",
              "    <path d=\"M0 0h24v24H0V0z\" fill=\"none\"/>\n",
              "    <path d=\"M18.56 5.44l.94 2.06.94-2.06 2.06-.94-2.06-.94-.94-2.06-.94 2.06-2.06.94zm-11 1L8.5 8.5l.94-2.06 2.06-.94-2.06-.94L8.5 2.5l-.94 2.06-2.06.94zm10 10l.94 2.06.94-2.06 2.06-.94-2.06-.94-.94-2.06-.94 2.06-2.06.94z\"/><path d=\"M17.41 7.96l-1.37-1.37c-.4-.4-.92-.59-1.43-.59-.52 0-1.04.2-1.43.59L10.3 9.45l-7.72 7.72c-.78.78-.78 2.05 0 2.83L4 21.41c.39.39.9.59 1.41.59.51 0 1.02-.2 1.41-.59l7.78-7.78 2.81-2.81c.8-.78.8-2.07 0-2.86zM5.41 20L4 18.59l7.72-7.72 1.47 1.35L5.41 20z\"/>\n",
              "  </svg>\n",
              "      </button>\n",
              "      \n",
              "  <style>\n",
              "    .colab-df-container {\n",
              "      display:flex;\n",
              "      flex-wrap:wrap;\n",
              "      gap: 12px;\n",
              "    }\n",
              "\n",
              "    .colab-df-convert {\n",
              "      background-color: #E8F0FE;\n",
              "      border: none;\n",
              "      border-radius: 50%;\n",
              "      cursor: pointer;\n",
              "      display: none;\n",
              "      fill: #1967D2;\n",
              "      height: 32px;\n",
              "      padding: 0 0 0 0;\n",
              "      width: 32px;\n",
              "    }\n",
              "\n",
              "    .colab-df-convert:hover {\n",
              "      background-color: #E2EBFA;\n",
              "      box-shadow: 0px 1px 2px rgba(60, 64, 67, 0.3), 0px 1px 3px 1px rgba(60, 64, 67, 0.15);\n",
              "      fill: #174EA6;\n",
              "    }\n",
              "\n",
              "    [theme=dark] .colab-df-convert {\n",
              "      background-color: #3B4455;\n",
              "      fill: #D2E3FC;\n",
              "    }\n",
              "\n",
              "    [theme=dark] .colab-df-convert:hover {\n",
              "      background-color: #434B5C;\n",
              "      box-shadow: 0px 1px 3px 1px rgba(0, 0, 0, 0.15);\n",
              "      filter: drop-shadow(0px 1px 2px rgba(0, 0, 0, 0.3));\n",
              "      fill: #FFFFFF;\n",
              "    }\n",
              "  </style>\n",
              "\n",
              "      <script>\n",
              "        const buttonEl =\n",
              "          document.querySelector('#df-26ab07a9-d7ce-4bc9-9853-83f6b693e049 button.colab-df-convert');\n",
              "        buttonEl.style.display =\n",
              "          google.colab.kernel.accessAllowed ? 'block' : 'none';\n",
              "\n",
              "        async function convertToInteractive(key) {\n",
              "          const element = document.querySelector('#df-26ab07a9-d7ce-4bc9-9853-83f6b693e049');\n",
              "          const dataTable =\n",
              "            await google.colab.kernel.invokeFunction('convertToInteractive',\n",
              "                                                     [key], {});\n",
              "          if (!dataTable) return;\n",
              "\n",
              "          const docLinkHtml = 'Like what you see? Visit the ' +\n",
              "            '<a target=\"_blank\" href=https://colab.research.google.com/notebooks/data_table.ipynb>data table notebook</a>'\n",
              "            + ' to learn more about interactive tables.';\n",
              "          element.innerHTML = '';\n",
              "          dataTable['output_type'] = 'display_data';\n",
              "          await google.colab.output.renderOutput(dataTable, element);\n",
              "          const docLink = document.createElement('div');\n",
              "          docLink.innerHTML = docLinkHtml;\n",
              "          element.appendChild(docLink);\n",
              "        }\n",
              "      </script>\n",
              "    </div>\n",
              "  </div>\n",
              "  "
            ]
          },
          "metadata": {},
          "execution_count": 46
        }
      ]
    },
    {
      "cell_type": "code",
      "source": [
        "train_n_shape = pd.read_csv(filepath + 'train_n_shape.csv')"
      ],
      "metadata": {
        "id": "UxRvD836QsNn"
      },
      "execution_count": null,
      "outputs": []
    },
    {
      "cell_type": "code",
      "source": [
        "_, ax = plt.subplots(4, 4, figsize=(20, 10))\n",
        "for i in range(16):\n",
        "    img_dir = file_path_train+train_n_shape.loc[i, 'FILENAME']\n",
        "    img = cv2.imread(img_dir, cv2.IMREAD_GRAYSCALE)\n",
        "    title = f\"Prediction: {result.loc[i,'prediction']} \\n Actual Identity: {result.loc[i,'actual_identity']}\"\n",
        "    ax[i // 4, i % 4].imshow(img, cmap=\"gray\")\n",
        "    ax[i // 4, i % 4].set_title(title)\n",
        "    ax[i // 4, i % 4].axis(\"off\")\n",
        "plt.show()"
      ],
      "metadata": {
        "colab": {
          "base_uri": "https://localhost:8080/",
          "height": 532
        },
        "id": "kDTHko1qOxC9",
        "outputId": "2bf82731-6017-4588-e5d7-6a9912deeb28"
      },
      "execution_count": null,
      "outputs": [
        {
          "output_type": "display_data",
          "data": {
            "text/plain": [
              "<Figure size 1440x720 with 16 Axes>"
            ],
            "image/png": "[encoded data removed]"
          },
          "metadata": {
            "needs_background": "light"
          }
        }
      ]
    }
  ],
  "metadata": {
    "colab": {
      "collapsed_sections": [],
      "machine_shape": "hm",
      "name": "II OCR.ipynb",
      "provenance": [],
      "toc_visible": true
    },
    "kernelspec": {
      "display_name": "Python 3",
      "name": "python3"
    },
    "language_info": {
      "name": "python"
    }
  },
  "nbformat": 4,
  "nbformat_minor": 0
}